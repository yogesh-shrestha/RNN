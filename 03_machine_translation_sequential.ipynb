{
 "cells": [
  {
   "cell_type": "markdown",
   "metadata": {},
   "source": [
    "# Neural Machine Translation"
   ]
  },
  {
   "cell_type": "code",
   "execution_count": 1,
   "metadata": {},
   "outputs": [],
   "source": [
    "from tensorflow import keras\n",
    "import string\n",
    "import re\n",
    "import pickle \n",
    "from unicodedata import normalize\n",
    "import numpy as np\n",
    "from tensorflow.keras.preprocessing.text import Tokenizer\n",
    "from tensorflow.keras.preprocessing.sequence import pad_sequences\n",
    "from tensorflow.keras.utils import to_categorical"
   ]
  },
  {
   "cell_type": "markdown",
   "metadata": {},
   "source": [
    "## Prepare data "
   ]
  },
  {
   "cell_type": "code",
   "execution_count": 2,
   "metadata": {},
   "outputs": [],
   "source": [
    "# load doc into memory\n",
    "def load_doc(filename):\n",
    "    # open the file as read only\n",
    "    file = open(filename, mode='rt', encoding='utf-8')\n",
    "    # read all text\n",
    "    text = file.read()\n",
    "    # close the file\n",
    "    file.close()\n",
    "    return text\n",
    "\n",
    "# split a loaded document into sentences\n",
    "def to_pairs(doc):\n",
    "    lines = doc.strip().split('\\n')\n",
    "    pairs = [line.split('\\t') for line in lines]\n",
    "    return pairs\n",
    "\n",
    "# clean a list of lines\n",
    "def clean_pairs(lines):\n",
    "    cleaned = list()\n",
    "    # prepare regex for char filtering\n",
    "    re_punc = re.compile('[%s]' % re.escape(string.punctuation))\n",
    "    re_print = re.compile('[^%s]' % re.escape(string.printable))\n",
    "    for pair in lines:\n",
    "        clean_pair = []\n",
    "        for line in pair:\n",
    "            # normalize unicode characters\n",
    "            line = normalize('NFD', line).encode('ascii', 'ignore')\n",
    "            line = line.decode('UTF-8')\n",
    "            #tokenize the white space\n",
    "            line = line.split()\n",
    "            #convert to lower case\n",
    "            line = [word.lower() for word in line]\n",
    "            #remove puntuation from each token\n",
    "            line = [re_punc.sub('', w) for w in line]\n",
    "            # remove non-printable chars from each token\n",
    "            line = [re_print.sub('', w) for w in line]\n",
    "            # remove token with number in them\n",
    "            line = [word for word in line if word.isalpha()]\n",
    "            # store a string\n",
    "            clean_pair.append(' '.join(line))\n",
    "        cleaned.append(clean_pair)\n",
    "    return np.array(cleaned)[:,0:2]\n",
    "\n",
    "# save a list of clean sentences to file\n",
    "def save_clean_data(sentences, filename):\n",
    "    pickle.dump(sentences, open(filename, 'wb'))\n",
    "    print('Saved: %s' % filename)\n",
    "    \n"
   ]
  },
  {
   "cell_type": "code",
   "execution_count": 3,
   "metadata": {},
   "outputs": [
    {
     "name": "stdout",
     "output_type": "stream",
     "text": [
      "Saved: english-german.pkl\n"
     ]
    }
   ],
   "source": [
    "# load dataset\n",
    "filename = 'dataset/deu.txt'\n",
    "doc = load_doc(filename)\n",
    "# split into english-german pairs\n",
    "pairs = to_pairs(doc)\n",
    "# clean sentences\n",
    "clean_pairs = clean_pairs(pairs)\n",
    "# save clean pairs to file\n",
    "save_clean_data(clean_pairs, 'english-german.pkl')"
   ]
  },
  {
   "cell_type": "code",
   "execution_count": 4,
   "metadata": {},
   "outputs": [
    {
     "name": "stdout",
     "output_type": "stream",
     "text": [
      "Saved: english-german-both.pkl\n",
      "Saved: english-german-train.pkl\n",
      "Saved: english-german-test.pkl\n"
     ]
    }
   ],
   "source": [
    "# load a clean dataset\n",
    "def load_clean_sentences(filename):\n",
    "    return pickle.load(open(filename, 'rb'))\n",
    "\n",
    "# save a list of clean sentences to file\n",
    "def save_clean_data(sentences, filename):\n",
    "    pickle.dump(sentences, open(filename, 'wb'))\n",
    "    print('Saved: %s' % filename)\n",
    "    \n",
    "# load dataset\n",
    "raw_dataset = load_clean_sentences('english-german.pkl')\n",
    "\n",
    "# reduce dataset size\n",
    "n_sentences = 10000\n",
    "dataset = raw_dataset[:n_sentences, :]\n",
    "# random shuffle\n",
    "np.random.shuffle(dataset)\n",
    "# split into train/test\n",
    "train, test = dataset[:9000], dataset[9000:]\n",
    "# save\n",
    "save_clean_data(dataset, 'english-german-both.pkl')\n",
    "save_clean_data(train, 'english-german-train.pkl')\n",
    "save_clean_data(test, 'english-german-test.pkl')"
   ]
  },
  {
   "cell_type": "markdown",
   "metadata": {},
   "source": [
    "## Train Neural Translation Model\n",
    "\n",
    "#### Convert datasets to appropriate form for input"
   ]
  },
  {
   "cell_type": "code",
   "execution_count": 5,
   "metadata": {},
   "outputs": [],
   "source": [
    "# load a clean dataset\n",
    "def load_clean_sentences(filename):\n",
    "    return pickle.load(open(filename, 'rb'))\n",
    "\n",
    "# create and fit a tokenizer\n",
    "def create_tokenizer(lines):\n",
    "    tokenizer = Tokenizer()\n",
    "    tokenizer.fit_on_texts(lines)\n",
    "    return tokenizer\n",
    "\n",
    "# max sentence length\n",
    "def max_length(lines):\n",
    "    return max(len(line.split()) for line in lines)\n",
    "\n",
    "# encode and pad sequences\n",
    "def encode_sequences(tokenizer, length, lines):\n",
    "    # integer encode sequences\n",
    "    X = tokenizer.texts_to_sequences(lines)\n",
    "    # pad sequences with 0 values\n",
    "    X = pad_sequences(X, maxlen=length, padding='post')\n",
    "    return X\n",
    "\n",
    "def encode_output(sequences, vocab_size):\n",
    "    ylist = list()\n",
    "    for sequence in sequences:\n",
    "        encoded = to_categorical(sequence, num_classes=vocab_size)\n",
    "        ylist.append(encoded)\n",
    "    y = np.array(ylist)\n",
    "    y = y.reshape(sequences.shape[0], sequences.shape[1], vocab_size)\n",
    "    return y\n"
   ]
  },
  {
   "cell_type": "code",
   "execution_count": 6,
   "metadata": {},
   "outputs": [],
   "source": [
    "# load datasets\n",
    "dataset = load_clean_sentences('english-german-both.pkl')\n",
    "train = load_clean_sentences('english-german-train.pkl')\n",
    "test = load_clean_sentences('english-german-test.pkl')\n",
    "\n",
    "# prepare english tokenizer\n",
    "eng_tokenizer = create_tokenizer(dataset[:,0])\n",
    "eng_vocab_size = len(eng_tokenizer.word_index) + 1\n",
    "eng_length = max_length(dataset[:, 0])\n",
    "ger_tokenizer = create_tokenizer(dataset[:, 1])\n",
    "ger_vocab_size = len(ger_tokenizer.word_index) + 1\n",
    "ger_length = max_length(dataset[:, 1])\n",
    "\n",
    "\n",
    "# prepare training data\n",
    "trainX = encode_sequences(ger_tokenizer, ger_length, train[:, 1])\n",
    "trainY = encode_sequences(eng_tokenizer, eng_length, train[:, 0])\n",
    "trainY = encode_output(trainY, eng_vocab_size)\n",
    "\n",
    "# prepare validation data\n",
    "testX = encode_sequences(ger_tokenizer, ger_length, test[:, 1])\n",
    "testY = encode_sequences(eng_tokenizer, eng_length, test[:, 0])\n",
    "testY = encode_output(testY, eng_vocab_size)\n",
    "\n"
   ]
  },
  {
   "cell_type": "code",
   "execution_count": 8,
   "metadata": {},
   "outputs": [
    {
     "data": {
      "text/plain": [
       "3586"
      ]
     },
     "execution_count": 8,
     "metadata": {},
     "output_type": "execute_result"
    }
   ],
   "source": [
    "ger_vocab_size"
   ]
  },
  {
   "cell_type": "markdown",
   "metadata": {},
   "source": [
    "#### Define Model"
   ]
  },
  {
   "cell_type": "code",
   "execution_count": 67,
   "metadata": {},
   "outputs": [],
   "source": [
    "import tensorflow as tf\n",
    "from tensorflow.keras.layers import Embedding\n",
    "from tensorflow.keras.layers import LSTM\n",
    "from tensorflow.keras.layers import TimeDistributed\n",
    "from tensorflow.keras.models import Sequential\n",
    "from tensorflow.keras.layers import RepeatVector\n",
    "from tensorflow.keras.layers import Dense\n",
    "from tensorflow.keras.layers import Input\n",
    "from tensorflow.keras.models import Model\n",
    "from tensorflow.keras.layers import Activation\n",
    "from tensorflow.keras.optimizers import Adam"
   ]
  },
  {
   "cell_type": "code",
   "execution_count": 8,
   "metadata": {},
   "outputs": [],
   "source": [
    "def define_model_Seq(src_vocab, tar_vocab, src_timesteps, tar_timesteps, n_units):\n",
    "    model = Sequential()\n",
    "    model.add(Embedding(src_vocab, n_units, input_length=src_timesteps, mask_zero=True))\n",
    "    model.add(LSTM(n_units))\n",
    "    model.add(RepeatVector(tar_timesteps))\n",
    "    model.add(LSTM(n_units, return_sequences=True))\n",
    "    model.add(TimeDistributed(Dense(tar_vocab, activation='softmax')))\n",
    "    # compile model\n",
    "    model.compile(optimizer='adam', loss='categorical_crossentropy')\n",
    "    # summarize defined model\n",
    "    model.summary()\n",
    "    return model"
   ]
  },
  {
   "cell_type": "code",
   "execution_count": 15,
   "metadata": {},
   "outputs": [
    {
     "name": "stdout",
     "output_type": "stream",
     "text": [
      "Model: \"sequential_1\"\n",
      "_________________________________________________________________\n",
      "Layer (type)                 Output Shape              Param #   \n",
      "=================================================================\n",
      "embedding_1 (Embedding)      (None, 9, 256)            918016    \n",
      "_________________________________________________________________\n",
      "lstm_2 (LSTM)                (None, 256)               525312    \n",
      "_________________________________________________________________\n",
      "repeat_vector_1 (RepeatVecto (None, 5, 256)            0         \n",
      "_________________________________________________________________\n",
      "lstm_3 (LSTM)                (None, 5, 256)            525312    \n",
      "_________________________________________________________________\n",
      "time_distributed_1 (TimeDist (None, 5, 2256)           579792    \n",
      "=================================================================\n",
      "Total params: 2,548,432\n",
      "Trainable params: 2,548,432\n",
      "Non-trainable params: 0\n",
      "_________________________________________________________________\n",
      "Epoch 1/30\n",
      "141/141 - 22s - loss: 4.1284 - val_loss: 3.3743\n",
      "\n",
      "Epoch 00001: val_loss improved from inf to 3.37427, saving model to model_enc_dec_seq.h5\n",
      "Epoch 2/30\n",
      "141/141 - 15s - loss: 3.2172 - val_loss: 3.2407\n",
      "\n",
      "Epoch 00002: val_loss improved from 3.37427 to 3.24067, saving model to model_enc_dec_seq.h5\n",
      "Epoch 3/30\n",
      "141/141 - 16s - loss: 3.0794 - val_loss: 3.1495\n",
      "\n",
      "Epoch 00003: val_loss improved from 3.24067 to 3.14947, saving model to model_enc_dec_seq.h5\n",
      "Epoch 4/30\n",
      "141/141 - 16s - loss: 2.9288 - val_loss: 3.0238\n",
      "\n",
      "Epoch 00004: val_loss improved from 3.14947 to 3.02380, saving model to model_enc_dec_seq.h5\n",
      "Epoch 5/30\n",
      "141/141 - 17s - loss: 2.7688 - val_loss: 2.8958\n",
      "\n",
      "Epoch 00005: val_loss improved from 3.02380 to 2.89583, saving model to model_enc_dec_seq.h5\n",
      "Epoch 6/30\n",
      "141/141 - 18s - loss: 2.6207 - val_loss: 2.8002\n",
      "\n",
      "Epoch 00006: val_loss improved from 2.89583 to 2.80019, saving model to model_enc_dec_seq.h5\n",
      "Epoch 7/30\n",
      "141/141 - 18s - loss: 2.4902 - val_loss: 2.7171\n",
      "\n",
      "Epoch 00007: val_loss improved from 2.80019 to 2.71707, saving model to model_enc_dec_seq.h5\n",
      "Epoch 8/30\n",
      "141/141 - 18s - loss: 2.3543 - val_loss: 2.6467\n",
      "\n",
      "Epoch 00008: val_loss improved from 2.71707 to 2.64666, saving model to model_enc_dec_seq.h5\n",
      "Epoch 9/30\n",
      "141/141 - 19s - loss: 2.2172 - val_loss: 2.5288\n",
      "\n",
      "Epoch 00009: val_loss improved from 2.64666 to 2.52881, saving model to model_enc_dec_seq.h5\n",
      "Epoch 10/30\n",
      "141/141 - 18s - loss: 2.0842 - val_loss: 2.4597\n",
      "\n",
      "Epoch 00010: val_loss improved from 2.52881 to 2.45971, saving model to model_enc_dec_seq.h5\n",
      "Epoch 11/30\n",
      "141/141 - 15s - loss: 1.9545 - val_loss: 2.3843\n",
      "\n",
      "Epoch 00011: val_loss improved from 2.45971 to 2.38435, saving model to model_enc_dec_seq.h5\n",
      "Epoch 12/30\n",
      "141/141 - 15s - loss: 1.8309 - val_loss: 2.2934\n",
      "\n",
      "Epoch 00012: val_loss improved from 2.38435 to 2.29336, saving model to model_enc_dec_seq.h5\n",
      "Epoch 13/30\n",
      "141/141 - 15s - loss: 1.7148 - val_loss: 2.2318\n",
      "\n",
      "Epoch 00013: val_loss improved from 2.29336 to 2.23184, saving model to model_enc_dec_seq.h5\n",
      "Epoch 14/30\n",
      "141/141 - 16s - loss: 1.6077 - val_loss: 2.1870\n",
      "\n",
      "Epoch 00014: val_loss improved from 2.23184 to 2.18699, saving model to model_enc_dec_seq.h5\n",
      "Epoch 15/30\n",
      "141/141 - 17s - loss: 1.5058 - val_loss: 2.1479\n",
      "\n",
      "Epoch 00015: val_loss improved from 2.18699 to 2.14792, saving model to model_enc_dec_seq.h5\n",
      "Epoch 16/30\n",
      "141/141 - 15s - loss: 1.4053 - val_loss: 2.1036\n",
      "\n",
      "Epoch 00016: val_loss improved from 2.14792 to 2.10362, saving model to model_enc_dec_seq.h5\n",
      "Epoch 17/30\n",
      "141/141 - 15s - loss: 1.3108 - val_loss: 2.0770\n",
      "\n",
      "Epoch 00017: val_loss improved from 2.10362 to 2.07702, saving model to model_enc_dec_seq.h5\n",
      "Epoch 18/30\n",
      "141/141 - 15s - loss: 1.2258 - val_loss: 2.0382\n",
      "\n",
      "Epoch 00018: val_loss improved from 2.07702 to 2.03816, saving model to model_enc_dec_seq.h5\n",
      "Epoch 19/30\n",
      "141/141 - 15s - loss: 1.1396 - val_loss: 2.0015\n",
      "\n",
      "Epoch 00019: val_loss improved from 2.03816 to 2.00148, saving model to model_enc_dec_seq.h5\n",
      "Epoch 20/30\n",
      "141/141 - 15s - loss: 1.0591 - val_loss: 1.9991\n",
      "\n",
      "Epoch 00020: val_loss improved from 2.00148 to 1.99910, saving model to model_enc_dec_seq.h5\n",
      "Epoch 21/30\n",
      "141/141 - 15s - loss: 0.9811 - val_loss: 1.9821\n",
      "\n",
      "Epoch 00021: val_loss improved from 1.99910 to 1.98208, saving model to model_enc_dec_seq.h5\n",
      "Epoch 22/30\n",
      "141/141 - 15s - loss: 0.9063 - val_loss: 1.9394\n",
      "\n",
      "Epoch 00022: val_loss improved from 1.98208 to 1.93941, saving model to model_enc_dec_seq.h5\n",
      "Epoch 23/30\n",
      "141/141 - 15s - loss: 0.8366 - val_loss: 1.9249\n",
      "\n",
      "Epoch 00023: val_loss improved from 1.93941 to 1.92488, saving model to model_enc_dec_seq.h5\n",
      "Epoch 24/30\n",
      "141/141 - 15s - loss: 0.7698 - val_loss: 1.9026\n",
      "\n",
      "Epoch 00024: val_loss improved from 1.92488 to 1.90257, saving model to model_enc_dec_seq.h5\n",
      "Epoch 25/30\n",
      "141/141 - 15s - loss: 0.7067 - val_loss: 1.8913\n",
      "\n",
      "Epoch 00025: val_loss improved from 1.90257 to 1.89131, saving model to model_enc_dec_seq.h5\n",
      "Epoch 26/30\n",
      "141/141 - 15s - loss: 0.6497 - val_loss: 1.8720\n",
      "\n",
      "Epoch 00026: val_loss improved from 1.89131 to 1.87202, saving model to model_enc_dec_seq.h5\n",
      "Epoch 27/30\n",
      "141/141 - 15s - loss: 0.5968 - val_loss: 1.8640\n",
      "\n",
      "Epoch 00027: val_loss improved from 1.87202 to 1.86398, saving model to model_enc_dec_seq.h5\n",
      "Epoch 28/30\n",
      "141/141 - 15s - loss: 0.5479 - val_loss: 1.8546\n",
      "\n",
      "Epoch 00028: val_loss improved from 1.86398 to 1.85456, saving model to model_enc_dec_seq.h5\n",
      "Epoch 29/30\n",
      "141/141 - 15s - loss: 0.5027 - val_loss: 1.8540\n",
      "\n",
      "Epoch 00029: val_loss improved from 1.85456 to 1.85402, saving model to model_enc_dec_seq.h5\n",
      "Epoch 30/30\n",
      "141/141 - 15s - loss: 0.4584 - val_loss: 1.8370\n",
      "\n",
      "Epoch 00030: val_loss improved from 1.85402 to 1.83697, saving model to model_enc_dec_seq.h5\n"
     ]
    },
    {
     "data": {
      "text/plain": [
       "<tensorflow.python.keras.callbacks.History at 0x21181f875e0>"
      ]
     },
     "execution_count": 15,
     "metadata": {},
     "output_type": "execute_result"
    }
   ],
   "source": [
    "from tensorflow.keras.callbacks import ModelCheckpoint\n",
    "\n",
    "# fit model\n",
    "checkpoint = ModelCheckpoint('model_enc_dec_seq.h5', monitor='val_loss', verbose=1,\n",
    "    save_best_only=True, mode='min')\n",
    "model_seq = define_model_Seq(ger_vocab_size, eng_vocab_size, ger_length, eng_length, 256)\n",
    "model_seq.fit(trainX, trainY, epochs=30, batch_size=64, validation_data=(testX, testY),\n",
    "    callbacks=[checkpoint], verbose=2)"
   ]
  },
  {
   "cell_type": "code",
   "execution_count": 16,
   "metadata": {},
   "outputs": [
    {
     "name": "stdout",
     "output_type": "stream",
     "text": [
      "['i love you']\n"
     ]
    }
   ],
   "source": [
    "src=['ich liebe dich']\n",
    "src_encoded = encode_sequences(ger_tokenizer,ger_length,src)\n",
    "y = model_seq.predict(src_encoded)\n",
    "seq = [np.argmax(vector) for vector in y[0,:,:]]\n",
    "target = eng_tokenizer.sequences_to_texts([seq])\n",
    "print(target)"
   ]
  }
 ],
 "metadata": {
  "kernelspec": {
   "display_name": "Python 3",
   "language": "python",
   "name": "python3"
  },
  "language_info": {
   "codemirror_mode": {
    "name": "ipython",
    "version": 3
   },
   "file_extension": ".py",
   "mimetype": "text/x-python",
   "name": "python",
   "nbconvert_exporter": "python",
   "pygments_lexer": "ipython3",
   "version": "3.8.5"
  }
 },
 "nbformat": 4,
 "nbformat_minor": 4
}
