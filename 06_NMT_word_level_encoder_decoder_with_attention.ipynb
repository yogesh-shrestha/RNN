{
 "cells": [
  {
   "cell_type": "markdown",
   "metadata": {},
   "source": [
    "# Neural Machine Translation at word-level without Attention Mechanism"
   ]
  },
  {
   "cell_type": "markdown",
   "metadata": {},
   "source": [
    "## Download and Prepare Dataset"
   ]
  },
  {
   "cell_type": "markdown",
   "metadata": {},
   "source": [
    "Dataset downloaded from :  Dataset downloaded from: http://www.manythings.org/anki/deu-eng.zip"
   ]
  },
  {
   "cell_type": "code",
   "execution_count": 4,
   "metadata": {},
   "outputs": [],
   "source": [
    "import tensorflow as tf\n",
    "import re\n",
    "import string\n",
    "import numpy as np\n",
    "from unicodedata import normalize\n",
    "from tensorflow import keras\n",
    "from tensorflow.keras.utils import to_categorical\n",
    "from tensorflow.keras.preprocessing.sequence import pad_sequences\n",
    "from tensorflow.keras.preprocessing.text import Tokenizer\n",
    "from tensorflow.keras import Input\n",
    "from tensorflow.keras.layers import LSTM\n",
    "from tensorflow.keras.layers import Dense\n",
    "from tensorflow.keras.layers import Concatenate\n",
    "from tensorflow.keras.layers import AdditiveAttention\n",
    "from tensorflow.keras.layers import TimeDistributed\n",
    "from tensorflow.keras.models import Model\n",
    "from tensorflow.keras import backend as K"
   ]
  },
  {
   "cell_type": "code",
   "execution_count": 5,
   "metadata": {},
   "outputs": [],
   "source": [
    "path_to_file = \"dataset/deu.txt\"\n",
    "MAX_LINES = 20000"
   ]
  },
  {
   "cell_type": "code",
   "execution_count": 6,
   "metadata": {},
   "outputs": [],
   "source": [
    "def load_data(filename):\n",
    "    \"\"\" Return data set as a list of pair-list\"\"\"\n",
    "    file = open(filename, mode='rt', encoding='utf-8')\n",
    "    text = file.read()\n",
    "    lines = text.split('\\n')\n",
    "    pairs = [line.split('\\t')[:2] for line in lines[:min(MAX_LINES, len(lines) - 1)]]\n",
    "    return pairs\n",
    "\n",
    "def clean_pairs(pairs):\n",
    "    cleaned = list()\n",
    "    re_punc = re.compile('[%s]' % re.escape(string.punctuation))\n",
    "    re_print = re.compile('[^%s]' % re.escape(string.printable))\n",
    "    for pair in pairs:\n",
    "        clean_pair = []\n",
    "        for line in pair:\n",
    "            line = normalize('NFD', line).encode('ascii', 'ignore')\n",
    "            line = line.decode('UTF-8')\n",
    "            line = line.split()\n",
    "            line = [word.lower() for word in line]\n",
    "            line = [re_punc.sub('', w) for w in line]\n",
    "            line = [re_print.sub('', w) for w in line]\n",
    "            line = [word for word in line if word.isalpha()]\n",
    "            clean_pair.append(' '.join(line))\n",
    "        cleaned.append(clean_pair)\n",
    "    return cleaned\n",
    "\n",
    "def encode_one_hot(sequences, vocab_size):\n",
    "    ylist = list()\n",
    "    for sequence in sequences:\n",
    "        encoded = to_categorical(sequence, num_classes=vocab_size)\n",
    "        ylist.append(encoded)\n",
    "    y = np.array(ylist)\n",
    "    y = y.reshape(sequences.shape[0], sequences.shape[1], vocab_size)\n",
    "    return y"
   ]
  },
  {
   "cell_type": "code",
   "execution_count": 7,
   "metadata": {},
   "outputs": [],
   "source": [
    "pairs = load_data(path_to_file)\n",
    "cleaned_pairs = clean_pairs(pairs)\n",
    "en = [en for [en, ger] in cleaned_pairs]\n",
    "ger = [ger for [en, ger] in cleaned_pairs]\n",
    "ger = list(map(lambda x : '<sos> ' +  x  + ' <eos>' , ger))"
   ]
  },
  {
   "cell_type": "code",
   "execution_count": 8,
   "metadata": {},
   "outputs": [],
   "source": [
    "# to change input/target language\n",
    "input_lang = en\n",
    "targ_lang = ger"
   ]
  },
  {
   "cell_type": "code",
   "execution_count": 9,
   "metadata": {},
   "outputs": [],
   "source": [
    "def tokenizer(text):\n",
    "    tokenizer = tf.keras.preprocessing.text.Tokenizer(filters='')\n",
    "    tokenizer.fit_on_texts(text)\n",
    "    sequence = tokenizer.texts_to_sequences(text)\n",
    "    padded_sequence = tf.keras.preprocessing.sequence.pad_sequences(sequence, padding='post')\n",
    "    return padded_sequence, tokenizer"
   ]
  },
  {
   "cell_type": "code",
   "execution_count": 10,
   "metadata": {},
   "outputs": [],
   "source": [
    "# padded sequence and tokenier of input/target language\n",
    "input_seq, input_tokenizer = tokenizer(input_lang)\n",
    "target_seq, target_tokenizer = tokenizer(targ_lang)\n",
    "\n",
    "# maximum length of input and target language\n",
    "max_input_length = input_seq.shape[1]\n",
    "max_target_length = target_seq.shape[1]\n",
    "\n",
    "# vocab size of input/target language\n",
    "input_vocab_size = len(input_tokenizer.word_index)+1\n",
    "target_vocab_size = len(target_tokenizer.word_index)+1"
   ]
  },
  {
   "cell_type": "code",
   "execution_count": 11,
   "metadata": {},
   "outputs": [],
   "source": [
    "# Input/output of encoder decoder\n",
    "\n",
    "encoder_input_data = encode_one_hot(input_seq, input_vocab_size)\n",
    "target_seq_one_hot = encode_one_hot(target_seq, target_vocab_size)\n",
    "decoder_input_data = target_seq_one_hot[:,:-1,:]\n",
    "decoder_output_data = target_seq_one_hot[:, 1:,:]"
   ]
  },
  {
   "cell_type": "markdown",
   "metadata": {},
   "source": [
    "### Build the Model"
   ]
  },
  {
   "cell_type": "code",
   "execution_count": 15,
   "metadata": {},
   "outputs": [],
   "source": [
    "LATENT_DIM = 128\n",
    "\n",
    "# Define Encoder/Decoder\n",
    "\n",
    "# Encoder\n",
    "encoder_input = Input(shape=(None, input_vocab_size), \n",
    "                      name='encoder_input')\n",
    "encoder_lstm = LSTM(LATENT_DIM, \n",
    "                    return_sequences=True, \n",
    "                    return_state=True, \n",
    "                    name='encoder_lstm')\n",
    "encoder_outputs, enc_state_h, enc_state_c = encoder_lstm(encoder_input)\n",
    "encoder_state = [enc_state_h, enc_state_c]\n",
    "\n",
    "\n",
    "# Decoder\n",
    "decoder_input = Input(shape=[None, target_vocab_size],\n",
    "                     name='decoder_input')\n",
    "decoder_lstm = LSTM(LATENT_DIM,\n",
    "                   return_sequences=True,\n",
    "                   return_state=True,\n",
    "                   name='decoder_lstm')\n",
    "dec_h_output, dec_state_h, dec_state_c = decoder_lstm(decoder_input,\n",
    "                                                     initial_state=encoder_state,)\n",
    "#Apply attention mechanism\n",
    "attention_layer = AdditiveAttention(128,name='attention_layer')\n",
    "context_vector = attention_layer([dec_h_output, encoder_outputs])\n",
    "concat_layer = Concatenate(axis=-1, name='concat_layer')\n",
    "attention_concat_input = concat_layer([context_vector, dec_h_output])\n",
    "# attention_dense = Dense(LATENT_DIM,\n",
    "#                        activation='tanh',\n",
    "#                        name='attention_dense')                        \n",
    "# decoder_dense_input = attention_dense(attention_dense_input)\n",
    "                        \n",
    "decoder_dense = Dense(target_vocab_size, \n",
    "                      activation='softmax', \n",
    "                      name='decoder_dense')\n",
    "dense_time = TimeDistributed(decoder_dense, name='time_distributed_layer')\n",
    "\n",
    "decoder_output = dense_time(attention_concat_input)\n",
    "\n",
    "\n",
    "# Model\n",
    "model = Model([encoder_input, decoder_input],\n",
    "              decoder_output,\n",
    "             name='encoder_decoder_model')"
   ]
  },
  {
   "cell_type": "code",
   "execution_count": 16,
   "metadata": {},
   "outputs": [
    {
     "name": "stdout",
     "output_type": "stream",
     "text": [
      "Model: \"encoder_decoder_model\"\n",
      "__________________________________________________________________________________________________\n",
      "Layer (type)                    Output Shape         Param #     Connected to                     \n",
      "==================================================================================================\n",
      "encoder_input (InputLayer)      [(None, None, 3655)] 0                                            \n",
      "__________________________________________________________________________________________________\n",
      "decoder_input (InputLayer)      [(None, None, 5657)] 0                                            \n",
      "__________________________________________________________________________________________________\n",
      "encoder_lstm (LSTM)             [(None, None, 128),  1937408     encoder_input[0][0]              \n",
      "__________________________________________________________________________________________________\n",
      "decoder_lstm (LSTM)             [(None, None, 128),  2962432     decoder_input[0][0]              \n",
      "                                                                 encoder_lstm[0][1]               \n",
      "                                                                 encoder_lstm[0][2]               \n",
      "__________________________________________________________________________________________________\n",
      "attention_layer (AdditiveAttent (None, None, 128)    128         decoder_lstm[0][0]               \n",
      "                                                                 encoder_lstm[0][0]               \n",
      "__________________________________________________________________________________________________\n",
      "concat_layer (Concatenate)      (None, None, 256)    0           attention_layer[0][0]            \n",
      "                                                                 decoder_lstm[0][0]               \n",
      "__________________________________________________________________________________________________\n",
      "time_distributed_layer (TimeDis (None, None, 5657)   1453849     concat_layer[0][0]               \n",
      "==================================================================================================\n",
      "Total params: 6,353,817\n",
      "Trainable params: 6,353,817\n",
      "Non-trainable params: 0\n",
      "__________________________________________________________________________________________________\n"
     ]
    }
   ],
   "source": [
    "model.compile(optimizer='adam', loss='categorical_crossentropy', metrics=['accuracy'])\n",
    "model.summary()"
   ]
  },
  {
   "cell_type": "code",
   "execution_count": 17,
   "metadata": {},
   "outputs": [
    {
     "data": {
      "image/png": "[encoded data removed]",
      "text/plain": [
       "<IPython.core.display.Image object>"
      ]
     },
     "execution_count": 17,
     "metadata": {},
     "output_type": "execute_result"
    }
   ],
   "source": [
    "tf.keras.utils.plot_model(model, show_shapes=True)"
   ]
  },
  {
   "cell_type": "code",
   "execution_count": 18,
   "metadata": {},
   "outputs": [],
   "source": [
    "# Early stopping callback\n",
    "es_callback = tf.keras.callbacks.EarlyStopping(patience=10,\n",
    "                                              restore_best_weights=True)"
   ]
  },
  {
   "cell_type": "code",
   "execution_count": 20,
   "metadata": {},
   "outputs": [
    {
     "name": "stdout",
     "output_type": "stream",
     "text": [
      "Epoch 1/30\n",
      "500/500 [==============================] - 194s 387ms/step - loss: 1.9760 - accuracy: 0.6929 - val_loss: 2.1075 - val_accuracy: 0.7085\n",
      "Epoch 2/30\n",
      "500/500 [==============================] - 181s 363ms/step - loss: 1.6547 - accuracy: 0.7487 - val_loss: 1.9118 - val_accuracy: 0.7272\n",
      "Epoch 3/30\n",
      "500/500 [==============================] - 180s 359ms/step - loss: 1.4508 - accuracy: 0.7736 - val_loss: 1.7917 - val_accuracy: 0.7499\n",
      "Epoch 4/30\n",
      "500/500 [==============================] - 146s 291ms/step - loss: 1.2871 - accuracy: 0.7919 - val_loss: 1.7018 - val_accuracy: 0.7638\n",
      "Epoch 5/30\n",
      "500/500 [==============================] - 145s 291ms/step - loss: 1.1294 - accuracy: 0.8097 - val_loss: 1.6120 - val_accuracy: 0.7759\n",
      "Epoch 6/30\n",
      "500/500 [==============================] - 146s 292ms/step - loss: 0.9717 - accuracy: 0.8261 - val_loss: 1.5276 - val_accuracy: 0.7894\n",
      "Epoch 7/30\n",
      "500/500 [==============================] - 151s 301ms/step - loss: 0.8218 - accuracy: 0.8429 - val_loss: 1.4779 - val_accuracy: 0.7953\n",
      "Epoch 8/30\n",
      "500/500 [==============================] - 146s 293ms/step - loss: 0.6882 - accuracy: 0.8604 - val_loss: 1.4089 - val_accuracy: 0.8040\n",
      "Epoch 9/30\n",
      "500/500 [==============================] - 146s 292ms/step - loss: 0.5752 - accuracy: 0.8763 - val_loss: 1.3760 - val_accuracy: 0.8078\n",
      "Epoch 10/30\n",
      "500/500 [==============================] - 147s 295ms/step - loss: 0.4822 - accuracy: 0.8911 - val_loss: 1.3503 - val_accuracy: 0.8130\n",
      "Epoch 11/30\n",
      "500/500 [==============================] - 148s 296ms/step - loss: 0.4072 - accuracy: 0.9044 - val_loss: 1.3281 - val_accuracy: 0.8162\n",
      "Epoch 12/30\n",
      "500/500 [==============================] - 149s 298ms/step - loss: 0.3467 - accuracy: 0.9155 - val_loss: 1.3154 - val_accuracy: 0.8179\n",
      "Epoch 13/30\n",
      "500/500 [==============================] - 150s 299ms/step - loss: 0.2982 - accuracy: 0.9251 - val_loss: 1.3029 - val_accuracy: 0.8207\n",
      "Epoch 14/30\n",
      "500/500 [==============================] - 153s 307ms/step - loss: 0.2588 - accuracy: 0.9331 - val_loss: 1.3152 - val_accuracy: 0.8221\n",
      "Epoch 15/30\n",
      "500/500 [==============================] - 159s 317ms/step - loss: 0.2286 - accuracy: 0.9385 - val_loss: 1.3023 - val_accuracy: 0.8237\n",
      "Epoch 16/30\n",
      "500/500 [==============================] - 147s 295ms/step - loss: 0.2049 - accuracy: 0.9427 - val_loss: 1.3107 - val_accuracy: 0.8232\n",
      "Epoch 17/30\n",
      "500/500 [==============================] - 150s 299ms/step - loss: 0.1837 - accuracy: 0.9475 - val_loss: 1.3068 - val_accuracy: 0.8238\n",
      "Epoch 18/30\n",
      "500/500 [==============================] - 149s 299ms/step - loss: 0.1673 - accuracy: 0.9507 - val_loss: 1.3225 - val_accuracy: 0.8236\n",
      "Epoch 19/30\n",
      "500/500 [==============================] - 151s 301ms/step - loss: 0.1541 - accuracy: 0.9529 - val_loss: 1.3281 - val_accuracy: 0.8258\n",
      "Epoch 20/30\n",
      "500/500 [==============================] - 149s 299ms/step - loss: 0.1432 - accuracy: 0.9552 - val_loss: 1.3271 - val_accuracy: 0.8240\n",
      "Epoch 21/30\n",
      "500/500 [==============================] - 149s 298ms/step - loss: 0.1347 - accuracy: 0.9565 - val_loss: 1.3263 - val_accuracy: 0.8261\n",
      "Epoch 22/30\n",
      "500/500 [==============================] - 148s 296ms/step - loss: 0.1272 - accuracy: 0.9581 - val_loss: 1.3498 - val_accuracy: 0.8259\n",
      "Epoch 23/30\n",
      "500/500 [==============================] - 148s 296ms/step - loss: 0.1205 - accuracy: 0.9590 - val_loss: 1.3562 - val_accuracy: 0.8271\n",
      "Epoch 24/30\n",
      "500/500 [==============================] - 147s 294ms/step - loss: 0.1144 - accuracy: 0.9609 - val_loss: 1.3690 - val_accuracy: 0.8262\n",
      "Epoch 25/30\n",
      "500/500 [==============================] - 147s 294ms/step - loss: 0.1106 - accuracy: 0.9612 - val_loss: 1.3583 - val_accuracy: 0.8253\n"
     ]
    }
   ],
   "source": [
    "# Fit the Model\n",
    "history = model.fit([encoder_input_data, decoder_input_data], \n",
    "                                    decoder_output_data,\n",
    "                                    epochs=30,\n",
    "                                    validation_split=0.2,\n",
    "                                    callbacks = [es_callback])\n",
    "model.save('model_encoder_decoder_translation_with_attention.h5')"
   ]
  },
  {
   "cell_type": "code",
   "execution_count": 12,
   "metadata": {},
   "outputs": [],
   "source": [
    "model = keras.models.load_model('model_encoder_decoder_translation_with_attention.h5')"
   ]
  },
  {
   "cell_type": "code",
   "execution_count": 66,
   "metadata": {},
   "outputs": [],
   "source": [
    "LATENT_DIM = 128\n",
    "\n",
    "encoder_inputs = model.input[0]  # input_1\n",
    "encoder_outputs, enc_state_h, enc_state_c = model.layers[2].output  # lstm_1\n",
    "encoder_model = keras.Model(encoder_inputs, [encoder_outputs, enc_state_h, enc_state_c])\n",
    "\n",
    "decoder_inputs = model.input[1]  # input_2\n",
    "decoder_state_input_h = keras.Input(shape=(LATENT_DIM,))\n",
    "decoder_state_input_c = keras.Input(shape=(LATENT_DIM,))\n",
    "decoder_input_attention = keras.Input(shape=(None, LATENT_DIM))\n",
    "\n",
    "decoder_states_inputs = [decoder_state_input_h, decoder_state_input_c]\n",
    "decoder_lstm = model.layers[3]\n",
    "dec_output, state_h_dec, state_c_dec = decoder_lstm(decoder_inputs, \n",
    "                                                    initial_state=decoder_states_inputs\n",
    "                                                   )\n",
    "decoder_states = [state_h_dec, state_c_dec]\n",
    "\n",
    "attention = model.layers[4]\n",
    "context_vector = attention([dec_output, decoder_input_attention])\n",
    "concat_layer = model.layers[5]\n",
    "concat_output = concat_layer([context_vector, dec_output])\n",
    "time_distributed = model.layers[6]\n",
    "decoder_output = time_distributed(concat_output)\n",
    "\n",
    "decoder_model = keras.Model(\n",
    "    [decoder_inputs] + [decoder_input_attention] + decoder_states_inputs, \n",
    "    [decoder_output] + decoder_states\n",
    ")\n",
    "\n",
    "target_word_index = target_tokenizer.word_index\n",
    "reverse_target_word_index = dict((i, char) for char, i in target_tokenizer.word_index.items())\n",
    "\n",
    "def decode_sequence(input_seq):\n",
    "    # Encode the input as state vectors.\n",
    "    enc_out, states_h, state_c = encoder_model.predict(input_seq)\n",
    "    states_value = [states_h, state_c]\n",
    "    # Generate empty target sequence of length 1.\n",
    "    target_seq = np.zeros((1, 1, target_vocab_size))\n",
    "    # Populate the first character of target sequence with the start character.\n",
    "    target_seq[0, 0, target_word_index[\"<sos>\"]] = 1.0\n",
    "    # Sampling loop for a batch of sequences\n",
    "    # (to simplify, here we assume a batch of size 1).\n",
    "    stop_condition = False\n",
    "    decoded_sentence = []\n",
    "    \n",
    "    while not stop_condition:\n",
    "        output_tokens, h, c = decoder_model.predict([target_seq] + [enc_out] + [states_value])\n",
    "        # Sample a token\n",
    "        sampled_word_index = np.argmax(output_tokens[0, -1, :])\n",
    "        sampled_word = reverse_target_word_index[sampled_word_index]\n",
    "        decoded_sentence.append(sampled_word)\n",
    "\n",
    "        # Exit condition: either hit max length\n",
    "        # or find stop character.\n",
    "        if sampled_word == \"<eos>\" or len(decoded_sentence) > max_target_length:\n",
    "            stop_condition = True\n",
    "\n",
    "        # Update the target sequence (of length 1).\n",
    "        target_seq = np.zeros((1, 1, target_vocab_size))\n",
    "        target_seq[0, 0, sampled_word_index] = 1.0\n",
    "        # Update states\n",
    "        states_value = [h, c]\n",
    "    return ' '.join(decoded_sentence[:-1])"
   ]
  },
  {
   "cell_type": "code",
   "execution_count": 68,
   "metadata": {},
   "outputs": [
    {
     "name": "stdout",
     "output_type": "stream",
     "text": [
      "-\n",
      "Input sentence: youre unbiased\n",
      "Decoded sentence: du bist unvoreingenommen\n",
      "-\n",
      "Input sentence: youre unbiased\n",
      "Decoded sentence: du bist unvoreingenommen\n",
      "-\n",
      "Input sentence: youre up early\n",
      "Decoded sentence: du bist aber fruh auf\n",
      "-\n",
      "Input sentence: youre wasteful\n",
      "Decoded sentence: ihr seid verschwenderisch\n",
      "-\n",
      "Input sentence: youre wasteful\n",
      "Decoded sentence: ihr seid verschwenderisch\n",
      "-\n",
      "Input sentence: youre wasteful\n",
      "Decoded sentence: ihr seid verschwenderisch\n",
      "-\n",
      "Input sentence: youre wasteful\n",
      "Decoded sentence: ihr seid verschwenderisch\n",
      "-\n",
      "Input sentence: youre wasteful\n",
      "Decoded sentence: ihr seid verschwenderisch\n",
      "-\n",
      "Input sentence: youre wasteful\n",
      "Decoded sentence: ihr seid verschwenderisch\n",
      "-\n",
      "Input sentence: youve been had\n",
      "Decoded sentence: ihr seid reingelegt worden\n",
      "-\n",
      "Input sentence: youve found it\n",
      "Decoded sentence: du hast es gefunden\n",
      "-\n",
      "Input sentence: youve found it\n",
      "Decoded sentence: du hast es gefunden\n",
      "-\n",
      "Input sentence: youve found it\n",
      "Decoded sentence: du hast es gefunden\n",
      "-\n",
      "Input sentence: youve grown up\n",
      "Decoded sentence: du bist gro\n",
      "-\n",
      "Input sentence: youve grown up\n",
      "Decoded sentence: du bist gro\n",
      "-\n",
      "Input sentence: youve improved\n",
      "Decoded sentence: ihr habt euch verbessert\n",
      "-\n",
      "Input sentence: youve improved\n",
      "Decoded sentence: ihr habt euch verbessert\n",
      "-\n",
      "Input sentence: youve improved\n",
      "Decoded sentence: ihr habt euch verbessert\n",
      "-\n",
      "Input sentence: your bags open\n",
      "Decoded sentence: ihre tasche ist offen\n",
      "-\n",
      "Input sentence: your cars here\n",
      "Decoded sentence: dein auto ist hier\n"
     ]
    }
   ],
   "source": [
    "for seq_index in range(15000,15020):\n",
    "    # Take one sequence (part of the training set)\n",
    "    # for trying out decoding.\n",
    "    input_seq = encoder_input_data[seq_index : seq_index + 1]\n",
    "    decoded_sentence = decode_sequence(input_seq)\n",
    "    print(\"-\") \n",
    "    print(\"Input sentence:\", input_lang[seq_index])\n",
    "    print(\"Decoded sentence:\", decoded_sentence)"
   ]
  },
  {
   "cell_type": "code",
   "execution_count": 26,
   "metadata": {},
   "outputs": [
    {
     "data": {
      "text/plain": [
       "<tensorflow.python.keras.layers.wrappers.TimeDistributed at 0x1d1a4df1610>"
      ]
     },
     "execution_count": 26,
     "metadata": {},
     "output_type": "execute_result"
    }
   ],
   "source": [
    "model.layers[6]"
   ]
  },
  {
   "cell_type": "code",
   "execution_count": null,
   "metadata": {},
   "outputs": [],
   "source": []
  }
 ],
 "metadata": {
  "kernelspec": {
   "display_name": "Python 3",
   "language": "python",
   "name": "python3"
  },
  "language_info": {
   "codemirror_mode": {
    "name": "ipython",
    "version": 3
   },
   "file_extension": ".py",
   "mimetype": "text/x-python",
   "name": "python",
   "nbconvert_exporter": "python",
   "pygments_lexer": "ipython3",
   "version": "3.8.5"
  }
 },
 "nbformat": 4,
 "nbformat_minor": 4
}
