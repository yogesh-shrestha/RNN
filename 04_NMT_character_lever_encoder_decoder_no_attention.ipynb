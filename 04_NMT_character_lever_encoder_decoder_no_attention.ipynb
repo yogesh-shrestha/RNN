{
 "cells": [
  {
   "cell_type": "markdown",
   "metadata": {},
   "source": [
    "## Neural Machine Translation at Character-Level without Attention Mechanism"
   ]
  },
  {
   "cell_type": "markdown",
   "metadata": {},
   "source": [
    "### Download and Prepare Dataset"
   ]
  },
  {
   "cell_type": "markdown",
   "metadata": {},
   "source": [
    "Dataset downloaded from :  Dataset downloaded from: http://www.manythings.org/anki/deu-eng.zip"
   ]
  },
  {
   "cell_type": "code",
   "execution_count": 1,
   "metadata": {},
   "outputs": [],
   "source": [
    "import tensorflow as tf\n",
    "import re\n",
    "import string\n",
    "import numpy as np\n",
    "from unicodedata import normalize\n",
    "from tensorflow import keras\n",
    "from tensorflow.keras.utils import to_categorical\n",
    "from tensorflow.keras.preprocessing.sequence import pad_sequences\n",
    "from tensorflow.keras.preprocessing.text import Tokenizer\n",
    "from tensorflow.keras import Input\n",
    "from tensorflow.keras.layers import LSTM\n",
    "from tensorflow.keras.layers import Dense\n",
    "from tensorflow.keras.models import Model"
   ]
  },
  {
   "cell_type": "code",
   "execution_count": 2,
   "metadata": {},
   "outputs": [],
   "source": [
    "path_to_file = \"dataset/deu.txt\"\n",
    "MAX_LINES = 20000"
   ]
  },
  {
   "cell_type": "code",
   "execution_count": 3,
   "metadata": {},
   "outputs": [],
   "source": [
    "def load_data(filename):\n",
    "    \"\"\" Return data set as a list of pair-list\"\"\"\n",
    "    file = open(filename, mode='rt', encoding='utf-8')\n",
    "    text = file.read()\n",
    "    lines = text.split('\\n')\n",
    "    pairs = [line.split('\\t')[:2] for line in lines[:min(MAX_LINES, len(lines) - 1)]]\n",
    "    return pairs\n",
    "\n",
    "def clean_pairs(pairs):\n",
    "    cleaned = list()\n",
    "    re_punc = re.compile('[%s]' % re.escape(string.punctuation))\n",
    "    re_print = re.compile('[^%s]' % re.escape(string.printable))\n",
    "    for pair in pairs:\n",
    "        clean_pair = []\n",
    "        for line in pair:\n",
    "            line = normalize('NFD', line).encode('ascii', 'ignore')\n",
    "            line = line.decode('UTF-8')\n",
    "            line = line.split()\n",
    "            line = [word.lower() for word in line]\n",
    "            line = [re_punc.sub('', w) for w in line]\n",
    "            line = [re_print.sub('', w) for w in line]\n",
    "            line = [word for word in line if word.isalpha()]\n",
    "            clean_pair.append(' '.join(line))\n",
    "        cleaned.append(clean_pair)\n",
    "    return cleaned\n",
    "\n",
    "def encode_one_hot(sequences, vocab_size):\n",
    "    ylist = list()\n",
    "    for sequence in sequences:\n",
    "        encoded = to_categorical(sequence, num_classes=vocab_size)\n",
    "        ylist.append(encoded)\n",
    "    y = np.array(ylist)\n",
    "    y = y.reshape(sequences.shape[0], sequences.shape[1], vocab_size)\n",
    "    return y\n",
    "\n",
    "def tokenizer(text):\n",
    "    tokenizer = tf.keras.preprocessing.text.Tokenizer(filters='', char_level=True)\n",
    "    tokenizer.fit_on_texts(text)\n",
    "    sequence = tokenizer.texts_to_sequences(text)\n",
    "    padded_sequence = tf.keras.preprocessing.sequence.pad_sequences(sequence, padding='post')\n",
    "    return padded_sequence, tokenizer"
   ]
  },
  {
   "cell_type": "code",
   "execution_count": 4,
   "metadata": {},
   "outputs": [],
   "source": [
    "pairs = load_data(path_to_file)\n",
    "cleaned_pairs = clean_pairs(pairs)\n",
    "en = [en for [en, ger] in cleaned_pairs]\n",
    "ger = [ger for [en, ger] in cleaned_pairs]\n",
    "ger = list(map(lambda x : '\\t' +  x  + '\\n' , ger))"
   ]
  },
  {
   "cell_type": "code",
   "execution_count": 5,
   "metadata": {},
   "outputs": [],
   "source": [
    "# to change input/target language\n",
    "input_lang = en\n",
    "target_lang = ger"
   ]
  },
  {
   "cell_type": "code",
   "execution_count": 6,
   "metadata": {},
   "outputs": [],
   "source": [
    "# padded sequence and tokenier of input/target language\n",
    "input_seq, input_tokenizer = tokenizer(input_lang)\n",
    "target_seq, target_tokenizer = tokenizer(target_lang)\n",
    "\n",
    "# maximum length of input and target language\n",
    "max_input_length = input_seq.shape[1]\n",
    "max_target_length = target_seq.shape[1]\n",
    "\n",
    "# vocab size of input/target language\n",
    "input_vocab_size = len(input_tokenizer.word_index)+1\n",
    "target_vocab_size = len(target_tokenizer.word_index)+1"
   ]
  },
  {
   "cell_type": "code",
   "execution_count": 7,
   "metadata": {},
   "outputs": [],
   "source": [
    "# Input/output of encoder decoder\n",
    "\n",
    "encoder_input_data = encode_one_hot(input_seq, input_vocab_size)\n",
    "target_seq_one_hot = encode_one_hot(target_seq, target_vocab_size)\n",
    "decoder_input_data = target_seq_one_hot[:,:-1,:]\n",
    "decoder_output_data = target_seq_one_hot[:, 1:,:]"
   ]
  },
  {
   "cell_type": "markdown",
   "metadata": {},
   "source": [
    "### Build a Model"
   ]
  },
  {
   "cell_type": "code",
   "execution_count": 78,
   "metadata": {},
   "outputs": [],
   "source": [
    "LATENT_DIM = 128\n",
    "\n",
    "# Define Encoder/Decoder\n",
    "\n",
    "# Encoder\n",
    "encoder_input = Input(shape=(None, input_vocab_size), \n",
    "                      name='encoder_input')\n",
    "encoder_lstm = LSTM(LATENT_DIM, \n",
    "                    return_sequences=False, \n",
    "                    return_state=True, \n",
    "                    name='encoder_lstm')\n",
    "_, enc_state_h, enc_state_c = encoder_lstm(encoder_input)\n",
    "encoder_state = [enc_state_h, enc_state_c]\n",
    "\n",
    "# Decoder\n",
    "decoder_input = Input(shape=[None, target_vocab_size],\n",
    "                     name='decoder_input')\n",
    "decoder_lstm = LSTM(LATENT_DIM,\n",
    "                   return_sequences=True,\n",
    "                   return_state=True,\n",
    "                   name='decoder_lstm')\n",
    "dec_h_output, dec_state_h, dec_state_c = decoder_lstm(decoder_input,\n",
    "                                                     initial_state=encoder_state,)\n",
    "decoder_dense = Dense(target_vocab_size, \n",
    "                      activation='softmax', \n",
    "                      name='decoder_dense')\n",
    "decoder_output = decoder_dense(dec_h_output)\n",
    "\n",
    "# Model\n",
    "model = Model([encoder_input, decoder_input],\n",
    "              decoder_output,\n",
    "             name='encoder_decoder_model')"
   ]
  },
  {
   "cell_type": "code",
   "execution_count": 79,
   "metadata": {},
   "outputs": [
    {
     "name": "stdout",
     "output_type": "stream",
     "text": [
      "Model: \"encoder_decoder_model\"\n",
      "__________________________________________________________________________________________________\n",
      "Layer (type)                    Output Shape         Param #     Connected to                     \n",
      "==================================================================================================\n",
      "encoder_input (InputLayer)      [(None, None, 28)]   0                                            \n",
      "__________________________________________________________________________________________________\n",
      "decoder_input (InputLayer)      [(None, None, 30)]   0                                            \n",
      "__________________________________________________________________________________________________\n",
      "encoder_lstm (LSTM)             [(None, 128), (None, 80384       encoder_input[0][0]              \n",
      "__________________________________________________________________________________________________\n",
      "decoder_lstm (LSTM)             [(None, None, 128),  81408       decoder_input[0][0]              \n",
      "                                                                 encoder_lstm[0][1]               \n",
      "                                                                 encoder_lstm[0][2]               \n",
      "__________________________________________________________________________________________________\n",
      "decoder_dense (Dense)           (None, None, 30)     3870        decoder_lstm[0][0]               \n",
      "==================================================================================================\n",
      "Total params: 165,662\n",
      "Trainable params: 165,662\n",
      "Non-trainable params: 0\n",
      "__________________________________________________________________________________________________\n"
     ]
    }
   ],
   "source": [
    "model.compile(optimizer='adam', \n",
    "                               loss='categorical_crossentropy', \n",
    "                               metrics=['accuracy'])\n",
    "model.summary()"
   ]
  },
  {
   "cell_type": "code",
   "execution_count": 80,
   "metadata": {},
   "outputs": [
    {
     "data": {
      "image/png": "[encoded data removed]",
      "text/plain": [
       "<IPython.core.display.Image object>"
      ]
     },
     "execution_count": 80,
     "metadata": {},
     "output_type": "execute_result"
    }
   ],
   "source": [
    "tf.keras.utils.plot_model(model, show_shapes=True)"
   ]
  },
  {
   "cell_type": "code",
   "execution_count": 81,
   "metadata": {},
   "outputs": [],
   "source": [
    "# Early stopping callback\n",
    "es_callback = tf.keras.callbacks.EarlyStopping(patience=10,\n",
    "                                              restore_best_weights=True)"
   ]
  },
  {
   "cell_type": "code",
   "execution_count": 82,
   "metadata": {},
   "outputs": [
    {
     "name": "stdout",
     "output_type": "stream",
     "text": [
      "Epoch 1/100\n",
      "500/500 [==============================] - 32s 59ms/step - loss: 0.7817 - accuracy: 0.7912 - val_loss: 0.6274 - val_accuracy: 0.8199\n",
      "Epoch 2/100\n",
      "500/500 [==============================] - 32s 64ms/step - loss: 0.4883 - accuracy: 0.8562 - val_loss: 0.5196 - val_accuracy: 0.8447\n",
      "Epoch 3/100\n",
      "500/500 [==============================] - 32s 63ms/step - loss: 0.4221 - accuracy: 0.8739 - val_loss: 0.4796 - val_accuracy: 0.8565\n",
      "Epoch 4/100\n",
      "500/500 [==============================] - 35s 69ms/step - loss: 0.3894 - accuracy: 0.8836 - val_loss: 0.4492 - val_accuracy: 0.8641\n",
      "Epoch 5/100\n",
      "500/500 [==============================] - 37s 73ms/step - loss: 0.3673 - accuracy: 0.8895 - val_loss: 0.4308 - val_accuracy: 0.8697\n",
      "Epoch 6/100\n",
      "500/500 [==============================] - 38s 75ms/step - loss: 0.3502 - accuracy: 0.8942 - val_loss: 0.4163 - val_accuracy: 0.8742\n",
      "Epoch 7/100\n",
      "500/500 [==============================] - 38s 77ms/step - loss: 0.3355 - accuracy: 0.8981 - val_loss: 0.4048 - val_accuracy: 0.8773\n",
      "Epoch 8/100\n",
      "500/500 [==============================] - 39s 77ms/step - loss: 0.3230 - accuracy: 0.9018 - val_loss: 0.3915 - val_accuracy: 0.8822\n",
      "Epoch 9/100\n",
      "500/500 [==============================] - 41s 82ms/step - loss: 0.3121 - accuracy: 0.9052 - val_loss: 0.3823 - val_accuracy: 0.8849\n",
      "Epoch 10/100\n",
      "500/500 [==============================] - 40s 79ms/step - loss: 0.3022 - accuracy: 0.9084 - val_loss: 0.3776 - val_accuracy: 0.8863\n",
      "Epoch 11/100\n",
      "500/500 [==============================] - 40s 80ms/step - loss: 0.2928 - accuracy: 0.9112 - val_loss: 0.3683 - val_accuracy: 0.8893\n",
      "Epoch 12/100\n",
      "500/500 [==============================] - 40s 81ms/step - loss: 0.2846 - accuracy: 0.9137 - val_loss: 0.3599 - val_accuracy: 0.8914\n",
      "Epoch 13/100\n",
      "500/500 [==============================] - 41s 81ms/step - loss: 0.2765 - accuracy: 0.9164 - val_loss: 0.3538 - val_accuracy: 0.8936\n",
      "Epoch 14/100\n",
      "500/500 [==============================] - 43s 85ms/step - loss: 0.2694 - accuracy: 0.9185 - val_loss: 0.3517 - val_accuracy: 0.8944\n",
      "Epoch 15/100\n",
      "500/500 [==============================] - 38s 75ms/step - loss: 0.2626 - accuracy: 0.9206 - val_loss: 0.3462 - val_accuracy: 0.8960\n",
      "Epoch 16/100\n",
      "500/500 [==============================] - 30s 60ms/step - loss: 0.2569 - accuracy: 0.9224 - val_loss: 0.3433 - val_accuracy: 0.8969\n",
      "Epoch 17/100\n",
      "500/500 [==============================] - 30s 60ms/step - loss: 0.2509 - accuracy: 0.9241 - val_loss: 0.3394 - val_accuracy: 0.8982\n",
      "Epoch 18/100\n",
      "500/500 [==============================] - 30s 60ms/step - loss: 0.2456 - accuracy: 0.9257 - val_loss: 0.3352 - val_accuracy: 0.8999\n",
      "Epoch 19/100\n",
      "500/500 [==============================] - 30s 60ms/step - loss: 0.2404 - accuracy: 0.9274 - val_loss: 0.3330 - val_accuracy: 0.9003\n",
      "Epoch 20/100\n",
      "500/500 [==============================] - 30s 60ms/step - loss: 0.2357 - accuracy: 0.9288 - val_loss: 0.3318 - val_accuracy: 0.9012\n",
      "Epoch 21/100\n",
      "500/500 [==============================] - 31s 62ms/step - loss: 0.2314 - accuracy: 0.9301 - val_loss: 0.3300 - val_accuracy: 0.9013\n",
      "Epoch 22/100\n",
      "500/500 [==============================] - 34s 67ms/step - loss: 0.2272 - accuracy: 0.9314 - val_loss: 0.3283 - val_accuracy: 0.9021\n",
      "Epoch 23/100\n",
      "500/500 [==============================] - 34s 68ms/step - loss: 0.2233 - accuracy: 0.9324 - val_loss: 0.3275 - val_accuracy: 0.9024\n",
      "Epoch 24/100\n",
      "500/500 [==============================] - 31s 62ms/step - loss: 0.2195 - accuracy: 0.9336 - val_loss: 0.3274 - val_accuracy: 0.9028\n",
      "Epoch 25/100\n",
      "500/500 [==============================] - 31s 63ms/step - loss: 0.2157 - accuracy: 0.9348 - val_loss: 0.3262 - val_accuracy: 0.9037\n",
      "Epoch 26/100\n",
      "500/500 [==============================] - 31s 62ms/step - loss: 0.2122 - accuracy: 0.9358 - val_loss: 0.3263 - val_accuracy: 0.9042\n",
      "Epoch 27/100\n",
      "500/500 [==============================] - 38s 76ms/step - loss: 0.2091 - accuracy: 0.9367 - val_loss: 0.3257 - val_accuracy: 0.9038\n",
      "Epoch 28/100\n",
      "500/500 [==============================] - 33s 66ms/step - loss: 0.2061 - accuracy: 0.9375 - val_loss: 0.3249 - val_accuracy: 0.9047\n",
      "Epoch 29/100\n",
      "500/500 [==============================] - 34s 68ms/step - loss: 0.2027 - accuracy: 0.9386 - val_loss: 0.3253 - val_accuracy: 0.9050\n",
      "Epoch 30/100\n",
      "500/500 [==============================] - 36s 73ms/step - loss: 0.2000 - accuracy: 0.9392 - val_loss: 0.3241 - val_accuracy: 0.9055\n",
      "Epoch 31/100\n",
      "500/500 [==============================] - 32s 65ms/step - loss: 0.1972 - accuracy: 0.9402 - val_loss: 0.3255 - val_accuracy: 0.9056\n",
      "Epoch 32/100\n",
      "500/500 [==============================] - 32s 64ms/step - loss: 0.1949 - accuracy: 0.9408 - val_loss: 0.3254 - val_accuracy: 0.9056\n",
      "Epoch 33/100\n",
      "500/500 [==============================] - 32s 64ms/step - loss: 0.1921 - accuracy: 0.9416 - val_loss: 0.3262 - val_accuracy: 0.9055\n",
      "Epoch 34/100\n",
      "500/500 [==============================] - 32s 64ms/step - loss: 0.1898 - accuracy: 0.9423 - val_loss: 0.3253 - val_accuracy: 0.9063\n",
      "Epoch 35/100\n",
      "500/500 [==============================] - 32s 65ms/step - loss: 0.1872 - accuracy: 0.9432 - val_loss: 0.3267 - val_accuracy: 0.9056\n",
      "Epoch 36/100\n",
      "500/500 [==============================] - 32s 65ms/step - loss: 0.1850 - accuracy: 0.9438 - val_loss: 0.3275 - val_accuracy: 0.9060\n",
      "Epoch 37/100\n",
      "500/500 [==============================] - 31s 63ms/step - loss: 0.1828 - accuracy: 0.9445 - val_loss: 0.3270 - val_accuracy: 0.9065\n",
      "Epoch 38/100\n",
      "500/500 [==============================] - 32s 64ms/step - loss: 0.1806 - accuracy: 0.9450 - val_loss: 0.3294 - val_accuracy: 0.9058\n",
      "Epoch 39/100\n",
      "500/500 [==============================] - 32s 64ms/step - loss: 0.1785 - accuracy: 0.9457 - val_loss: 0.3300 - val_accuracy: 0.9064\n",
      "Epoch 40/100\n",
      "500/500 [==============================] - 32s 64ms/step - loss: 0.1772 - accuracy: 0.9461 - val_loss: 0.3301 - val_accuracy: 0.9060\n"
     ]
    }
   ],
   "source": [
    "history = model.fit([encoder_input_data, decoder_input_data], \n",
    "                                    decoder_output_data,\n",
    "                                    epochs=100,\n",
    "                                    validation_split=0.2,\n",
    "                                    callbacks = [es_callback])\n",
    "model.save('model_encoder_decoder_translation_char_level_no_attention.h5')"
   ]
  },
  {
   "cell_type": "markdown",
   "metadata": {},
   "source": [
    "### Inference"
   ]
  },
  {
   "cell_type": "code",
   "execution_count": 83,
   "metadata": {},
   "outputs": [
    {
     "data": {
      "text/plain": [
       "dict_items([(' ', 1), ('e', 2), ('i', 3), ('t', 4), ('n', 5), ('s', 6), ('h', 7), ('\\t', 8), ('\\n', 9), ('a', 10), ('r', 11), ('c', 12), ('m', 13), ('u', 14), ('o', 15), ('d', 16), ('g', 17), ('l', 18), ('b', 19), ('w', 20), ('f', 21), ('k', 22), ('z', 23), ('v', 24), ('p', 25), ('j', 26), ('y', 27), ('x', 28), ('q', 29)])"
      ]
     },
     "execution_count": 83,
     "metadata": {},
     "output_type": "execute_result"
    }
   ],
   "source": [
    "target_tokenizer.word_index.items()"
   ]
  },
  {
   "cell_type": "code",
   "execution_count": 73,
   "metadata": {},
   "outputs": [],
   "source": [
    "model = tf.keras.models.load_model(\"model_encoder_decoder_translation_char_level_no_attention.h5\")"
   ]
  },
  {
   "cell_type": "code",
   "execution_count": 100,
   "metadata": {},
   "outputs": [],
   "source": [
    "LATENT_DIM = 128\n",
    "\n",
    "encoder_inputs = model.input[0]  # input_1\n",
    "encoder_outputs, state_h_enc, state_c_enc = model.layers[2].output  # lstm_1\n",
    "encoder_states = [state_h_enc, state_c_enc]\n",
    "encoder_model = keras.Model(encoder_inputs, encoder_states)\n",
    "\n",
    "decoder_inputs = model.input[1]  # input_2\n",
    "decoder_state_input_h = keras.Input(shape=(LATENT_DIM,))\n",
    "decoder_state_input_c = keras.Input(shape=(LATENT_DIM,))\n",
    "decoder_states_inputs = [decoder_state_input_h, decoder_state_input_c]\n",
    "decoder_lstm = model.layers[3]\n",
    "decoder_outputs, state_h_dec, state_c_dec = decoder_lstm(\n",
    "    decoder_inputs, initial_state=decoder_states_inputs\n",
    ")\n",
    "decoder_states = [state_h_dec, state_c_dec]\n",
    "decoder_dense = model.layers[4]\n",
    "decoder_outputs = decoder_dense(decoder_outputs)\n",
    "decoder_model = keras.Model(\n",
    "    [decoder_inputs] + decoder_states_inputs, [decoder_outputs] + decoder_states\n",
    ")\n",
    "\n",
    "target_char_index = target_tokenizer.word_index\n",
    "reverse_target_char_index = dict((i, char) for char, i in target_tokenizer.word_index.items())\n",
    "\n",
    "def decode_sequence(input_seq):\n",
    "    # Encode the input as state vectors.\n",
    "    states_value = encoder_model.predict(input_seq)\n",
    "    # Generate empty target sequence of length 1.\n",
    "    target_seq = np.zeros((1, 1, target_vocab_size))\n",
    "    # Populate the first character of target sequence with the start character.\n",
    "    target_seq[0, 0, target_char_index[\"\\t\"]] = 1.0\n",
    "    # Sampling loop for a batch of sequences\n",
    "    # (to simplify, here we assume a batch of size 1).\n",
    "        \n",
    "    stop_condition = False\n",
    "    decoded_sentence = \"\"\n",
    "    while not stop_condition:\n",
    "        output_tokens, h, c = decoder_model.predict([target_seq] + states_value)\n",
    "\n",
    "        # Sample a token\n",
    "        sampled_char_index = np.argmax(output_tokens[0, -1, :])\n",
    "        sampled_char = reverse_target_char_index[sampled_char_index]\n",
    "        decoded_sentence += sampled_char\n",
    "\n",
    "        # Exit condition: either hit max length\n",
    "        # or find stop character.\n",
    "        if sampled_char == \"\\n\" or len(decoded_sentence) > max_target_length:\n",
    "            stop_condition = True\n",
    "\n",
    "        # Update the target sequence (of length 1).\n",
    "        target_seq = np.zeros((1, 1, target_vocab_size))\n",
    "        target_seq[0, 0, sampled_char_index] = 1.0\n",
    "\n",
    "        # Update states\n",
    "        states_value = [h, c]\n",
    "    return decoded_sentence"
   ]
  },
  {
   "cell_type": "code",
   "execution_count": 101,
   "metadata": {},
   "outputs": [
    {
     "name": "stdout",
     "output_type": "stream",
     "text": [
      "-\n",
      "Input sentence: go\n",
      "Decoded sentence: gehen\n",
      "\n",
      "-\n",
      "Input sentence: hi\n",
      "Decoded sentence: hallo\n",
      "\n",
      "-\n",
      "Input sentence: hi\n",
      "Decoded sentence: hallo\n",
      "\n",
      "-\n",
      "Input sentence: run\n",
      "Decoded sentence: versucht\n",
      "\n",
      "-\n",
      "Input sentence: run\n",
      "Decoded sentence: versucht\n",
      "\n",
      "-\n",
      "Input sentence: wow\n",
      "Decoded sentence: mangsam\n",
      "\n",
      "-\n",
      "Input sentence: wow\n",
      "Decoded sentence: mangsam\n",
      "\n",
      "-\n",
      "Input sentence: fire\n",
      "Decoded sentence: vergessen sie\n",
      "\n",
      "-\n",
      "Input sentence: help\n",
      "Decoded sentence: schien sich vorsichen\n",
      "\n",
      "-\n",
      "Input sentence: help\n",
      "Decoded sentence: schien sich vorsichen\n",
      "\n",
      "-\n",
      "Input sentence: stop\n",
      "Decoded sentence: halte sie\n",
      "\n",
      "-\n",
      "Input sentence: stop\n",
      "Decoded sentence: halte sie\n",
      "\n",
      "-\n",
      "Input sentence: wait\n",
      "Decoded sentence: warte\n",
      "\n",
      "-\n",
      "Input sentence: wait\n",
      "Decoded sentence: warte\n",
      "\n",
      "-\n",
      "Input sentence: begin\n",
      "Decoded sentence: gehen sie\n",
      "\n",
      "-\n",
      "Input sentence: go on\n",
      "Decoded sentence: gehen sie sich\n",
      "\n",
      "-\n",
      "Input sentence: hello\n",
      "Decoded sentence: halleis\n",
      "\n",
      "-\n",
      "Input sentence: hello\n",
      "Decoded sentence: halleis\n",
      "\n",
      "-\n",
      "Input sentence: hurry\n",
      "Decoded sentence: schnell dich\n",
      "\n",
      "-\n",
      "Input sentence: hurry\n",
      "Decoded sentence: schnell dich\n",
      "\n"
     ]
    }
   ],
   "source": [
    "for seq_index in range(20):\n",
    "    # Take one sequence (part of the training set)\n",
    "    # for trying out decoding.\n",
    "    input_seq = encoder_input_data[seq_index : seq_index + 1]\n",
    "    decoded_sentence = decode_sequence(input_seq)\n",
    "    print(\"------------------------------------\")\n",
    "    print(\"Input sentence:\", input_lang[seq_index])\n",
    "    print(\"Decoded sentence:\", decoded_sentence)"
   ]
  },
  {
   "cell_type": "code",
   "execution_count": null,
   "metadata": {},
   "outputs": [],
   "source": []
  }
 ],
 "metadata": {
  "kernelspec": {
   "display_name": "Python 3",
   "language": "python",
   "name": "python3"
  },
  "language_info": {
   "codemirror_mode": {
    "name": "ipython",
    "version": 3
   },
   "file_extension": ".py",
   "mimetype": "text/x-python",
   "name": "python",
   "nbconvert_exporter": "python",
   "pygments_lexer": "ipython3",
   "version": "3.8.5"
  }
 },
 "nbformat": 4,
 "nbformat_minor": 4
}
