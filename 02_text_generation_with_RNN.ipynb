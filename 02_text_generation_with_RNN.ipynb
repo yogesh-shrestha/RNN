{
 "cells": [
  {
   "cell_type": "markdown",
   "metadata": {},
   "source": [
    "## Text Generation with RNN\n"
   ]
  },
  {
   "cell_type": "code",
   "execution_count": 1,
   "metadata": {},
   "outputs": [],
   "source": [
    "import tensorflow as tf\n",
    "from tensorflow import keras\n",
    "import pickle\n",
    "from tensorflow.keras.preprocessing.text import Tokenizer\n",
    "from tensorflow.keras.preprocessing.sequence import pad_sequences\n",
    "import numpy as np"
   ]
  },
  {
   "cell_type": "code",
   "execution_count": 2,
   "metadata": {},
   "outputs": [],
   "source": [
    "def load_text(filename):\n",
    "    try:\n",
    "        with open(filename, 'r') as file:\n",
    "            doc = file.read()\n",
    "        return doc\n",
    "    except FileNotFoundError as e:\n",
    "        print(e)\n",
    "    except Exception as e:\n",
    "        print(e)\n",
    "        \n",
    "def create_tokenizer(text):\n",
    "    tokenizer = Tokenizer(char_level=True)\n",
    "    tokenizer.fit_on_texts(text)\n",
    "    return tokenizer\n",
    "\n",
    "def encode_text(tokenizer, text):\n",
    "    seq = tokenizer.texts_to_sequences(text)\n",
    "    return seq"
   ]
  },
  {
   "cell_type": "code",
   "execution_count": 3,
   "metadata": {},
   "outputs": [],
   "source": [
    "# text = load_text('dataset/blake-poems.txt')\n",
    "# tokenizer = keras.preprocessing.text.Tokenizer(char_level=True)\n",
    "# tokenizer.fit_on_texts(text)\n",
    "\n",
    "# max_id = len(tokenizer.word_index)\n",
    "# [encoded] = np.array(tokenizer.texts_to_sequences([text])) - 1\n",
    "# dataset = tf.data.Dataset.from_tensor_slices(encoded)\n",
    "\n",
    "# n_steps = 100\n",
    "# window_length = n_steps + 1\n",
    "# dataset = dataset.window(window_length, shift=1, drop_remainder=True)\n",
    "# dataset = dataset.flat_map(lambda window:window.batch(window_length))\n",
    "\n",
    "# batch_size = 32\n",
    "# dataset = dataset.shuffle(10000).batch(batch_size)\n",
    "# dataset = dataset.map(lambda windows: (windows[:, :-1], windows[:, 1:]))\n",
    "# dataset = dataset.map(\n",
    "#     lambda X_batch, Y_batch: (tf.one_hot(X_batch, depth=max_id), Y_batch))\n",
    "\n",
    "# dataset = dataset.prefetch(1)"
   ]
  },
  {
   "cell_type": "code",
   "execution_count": 5,
   "metadata": {},
   "outputs": [],
   "source": [
    "# load text for training\n",
    "filename = 'dataset/blake-poems.txt'\n",
    "text = load_text(filename)\n",
    "\n",
    "# create tokenizer and fit on text\n",
    "tokenizer = create_tokenizer(text)\n",
    "# number of unique character\n",
    "max_id = len(tokenizer.word_index)\n",
    "# make index id start from 0\n",
    "[encoded_text] = np.array(encode_text(tokenizer, [text])) - 1\n",
    "# create dataset \n",
    "dataset = tf.data.Dataset.from_tensor_slices(encoded_text)"
   ]
  },
  {
   "cell_type": "code",
   "execution_count": 6,
   "metadata": {},
   "outputs": [],
   "source": [
    "n_steps = 100\n",
    "window_size = n_steps + 1\n",
    "# make overlapping windows\n",
    "dataset = dataset.window(window_size, shift = 1, drop_remainder=True)\n",
    "dataset = dataset.flat_map(lambda window : window.batch(window_size))\n",
    "# batch the windows\n",
    "batch_size = 32\n",
    "dataset = dataset.shuffle(100).batch(32)\n",
    "# separate the \n",
    "dataset = dataset.map(lambda window : (window[:,:-1], window[:,1:]))\n",
    "# encode each character using one-hot vector\n",
    "dataset = dataset.map(lambda  X,Y : (tf.one_hot(X, depth=max_id), Y))\n",
    "dataset = dataset.prefetch(1)"
   ]
  },
  {
   "cell_type": "code",
   "execution_count": 7,
   "metadata": {},
   "outputs": [
    {
     "name": "stdout",
     "output_type": "stream",
     "text": [
      "Epoch 1/10\n",
      "1190/1190 [==============================] - 322s 267ms/step - loss: 2.5309\n",
      "Epoch 2/10\n",
      "1190/1190 [==============================] - 351s 295ms/step - loss: 1.9440\n",
      "Epoch 3/10\n",
      "1190/1190 [==============================] - 383s 322ms/step - loss: 1.7578\n",
      "Epoch 4/10\n",
      "1190/1190 [==============================] - 401s 337ms/step - loss: 1.6491\n",
      "Epoch 5/10\n",
      "1190/1190 [==============================] - 355s 298ms/step - loss: 1.5782\n",
      "Epoch 6/10\n",
      "1190/1190 [==============================] - 356s 299ms/step - loss: 1.5247\n",
      "Epoch 7/10\n",
      "1190/1190 [==============================] - 344s 289ms/step - loss: 1.4856\n",
      "Epoch 8/10\n",
      "1190/1190 [==============================] - 341s 287ms/step - loss: 1.4558\n",
      "Epoch 9/10\n",
      "1190/1190 [==============================] - 308s 259ms/step - loss: 1.4307\n",
      "Epoch 10/10\n",
      "1190/1190 [==============================] - 337s 283ms/step - loss: 1.4108\n"
     ]
    }
   ],
   "source": [
    "model = keras.models.Sequential([\n",
    "    keras.layers.GRU(128, return_sequences=True, input_shape=[None, max_id],\n",
    "                     dropout=0.2, recurrent_dropout=0.2),\n",
    "    keras.layers.GRU(128, return_sequences=True,\n",
    "                     dropout=0.2, recurrent_dropout=0.2),\n",
    "    keras.layers.TimeDistributed(keras.layers.Dense(max_id,\n",
    "                                                    activation=\"softmax\"))\n",
    "])\n",
    "model.compile(loss=\"sparse_categorical_crossentropy\", optimizer=\"adam\")\n",
    "history = model.fit(dataset, epochs=10)"
   ]
  },
  {
   "cell_type": "code",
   "execution_count": 8,
   "metadata": {},
   "outputs": [],
   "source": [
    "model.save('model_text_generation.h5')"
   ]
  },
  {
   "cell_type": "code",
   "execution_count": 15,
   "metadata": {},
   "outputs": [
    {
     "data": {
      "text/plain": [
       "'m'"
      ]
     },
     "execution_count": 15,
     "metadata": {},
     "output_type": "execute_result"
    }
   ],
   "source": [
    "def preprocess(texts):\n",
    "    X = np.array(tokenizer.texts_to_sequences(texts)) - 1\n",
    "    return tf.one_hot(X, max_id) \n",
    "\n",
    "X_new = preprocess([\"where are you fro\"])\n",
    "Y_pred = model.predict_classes(X_new)\n",
    "tokenizer.sequences_to_texts(Y_pred + 1)[0][-1]"
   ]
  },
  {
   "cell_type": "code",
   "execution_count": 17,
   "metadata": {},
   "outputs": [],
   "source": [
    "def next_char(text, temperature=1):\n",
    "    X_new = preprocess([text])\n",
    "    y_proba = model.predict(X_new)[0, -1:, :]\n",
    "    rescaled_logits = tf.math.log(y_proba) / temperature\n",
    "    char_id = tf.random.categorical(rescaled_logits, num_samples=1) + 1\n",
    "    return tokenizer.sequences_to_texts(char_id.numpy())[0]\n",
    "\n",
    "def complete_text(text, n_chars=100, temperature=1):\n",
    "    for _ in range(n_chars):\n",
    "        text += next_char(text, temperature)\n",
    "    return text"
   ]
  },
  {
   "cell_type": "code",
   "execution_count": 19,
   "metadata": {},
   "outputs": [
    {
     "name": "stdout",
     "output_type": "stream",
     "text": [
      "the cloud & a fierd the skies.\n",
      "\n",
      "\n",
      "iv.\n",
      "\n",
      "\n",
      "the complains of graves & the skies.\n",
      "\n",
      "\n",
      "iv.\n",
      "\n",
      "\n",
      "i parting to the \n"
     ]
    }
   ],
   "source": [
    "print(complete_text(\"t\", temperature=0.2))"
   ]
  },
  {
   "cell_type": "code",
   "execution_count": null,
   "metadata": {},
   "outputs": [],
   "source": []
  }
 ],
 "metadata": {
  "kernelspec": {
   "display_name": "Python 3",
   "language": "python",
   "name": "python3"
  },
  "language_info": {
   "codemirror_mode": {
    "name": "ipython",
    "version": 3
   },
   "file_extension": ".py",
   "mimetype": "text/x-python",
   "name": "python",
   "nbconvert_exporter": "python",
   "pygments_lexer": "ipython3",
   "version": "3.8.5"
  }
 },
 "nbformat": 4,
 "nbformat_minor": 4
}
