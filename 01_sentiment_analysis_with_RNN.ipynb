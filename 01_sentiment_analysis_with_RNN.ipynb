{
 "cells": [
  {
   "cell_type": "markdown",
   "metadata": {},
   "source": [
    "## Sentiment Analysis with RNN"
   ]
  },
  {
   "cell_type": "code",
   "execution_count": 3,
   "metadata": {},
   "outputs": [],
   "source": [
    "import tensorflow as tf\n",
    "from tensorflow import keras\n",
    "import pickle\n",
    "from tensorflow.keras.preprocessing.text import Tokenizer\n",
    "from tensorflow.keras.preprocessing.sequence import pad_sequences\n",
    "import numpy as np"
   ]
  },
  {
   "cell_type": "code",
   "execution_count": 4,
   "metadata": {},
   "outputs": [],
   "source": [
    "def load_data(filename):\n",
    "    return pickle.load(open(filename, 'rb'))\n",
    "\n",
    "def create_tokenizer(texts):\n",
    "    tokenizer =  Tokenizer()\n",
    "    tokenizer.fit_on_texts(texts)\n",
    "    return tokenizer\n",
    "\n",
    "def encode_texts(tokenizer, max_length, texts):\n",
    "    seq = tokenizer.texts_to_sequences(texts)\n",
    "    seq_padded = pad_sequences(seq, maxlen=max_length, padding='post')\n",
    "    return seq_padded\n",
    "\n",
    "def shuffle_data(X, y):\n",
    "    X, y = np.array(X), np.array(y)\n",
    "    X_y = np.concatenate((X, y[:, np.newaxis]), axis=1) \n",
    "    np.random.shuffle(X_y)\n",
    "    return X_y\n",
    "\n",
    "def define_model(vocab_size):\n",
    "    model = keras.models.Sequential([\n",
    "        keras.layers.Embedding(input_dim=vocab_size+100, output_dim=100, mask_zero=True),\n",
    "        keras.layers.LSTM(20, return_sequences=True,input_shape=[None], dropout=0.3),\n",
    "        keras.layers.LSTM(20, dropout=0.3),\n",
    "        keras.layers.Dense(1, activation='sigmoid')\n",
    "    ])\n",
    "    return model"
   ]
  },
  {
   "cell_type": "code",
   "execution_count": 5,
   "metadata": {},
   "outputs": [
    {
     "name": "stdout",
     "output_type": "stream",
     "text": [
      "Epoch 1/10\n",
      "54/54 [==============================] - 78s 1s/step - loss: 0.6917 - accuracy: 0.5172 - val_loss: 0.6449 - val_accuracy: 0.7000\n",
      "Epoch 2/10\n",
      "54/54 [==============================] - 74s 1s/step - loss: 0.4029 - accuracy: 0.8881 - val_loss: 0.5118 - val_accuracy: 0.7500\n",
      "Epoch 3/10\n",
      "54/54 [==============================] - 71s 1s/step - loss: 0.0782 - accuracy: 0.9905 - val_loss: 0.5568 - val_accuracy: 0.8100\n",
      "Epoch 4/10\n",
      "54/54 [==============================] - 79s 1s/step - loss: 0.0218 - accuracy: 0.9997 - val_loss: 0.5105 - val_accuracy: 0.8800\n",
      "Epoch 5/10\n",
      "54/54 [==============================] - 78s 1s/step - loss: 0.0219 - accuracy: 0.9957 - val_loss: 0.7793 - val_accuracy: 0.7500\n",
      "Epoch 6/10\n",
      "54/54 [==============================] - 76s 1s/step - loss: 0.0074 - accuracy: 1.0000 - val_loss: 0.8254 - val_accuracy: 0.7400\n",
      "Epoch 7/10\n",
      "54/54 [==============================] - 78s 1s/step - loss: 0.0043 - accuracy: 1.0000 - val_loss: 0.8315 - val_accuracy: 0.7800\n",
      "Epoch 8/10\n",
      "54/54 [==============================] - 79s 1s/step - loss: 0.0030 - accuracy: 1.0000 - val_loss: 0.8351 - val_accuracy: 0.8000\n",
      "Epoch 9/10\n",
      "54/54 [==============================] - 82s 2s/step - loss: 0.0022 - accuracy: 1.0000 - val_loss: 0.8431 - val_accuracy: 0.8200\n",
      "Epoch 10/10\n",
      "54/54 [==============================] - 80s 1s/step - loss: 0.0017 - accuracy: 1.0000 - val_loss: 0.8677 - val_accuracy: 0.8200\n"
     ]
    }
   ],
   "source": [
    "X_train, y_train = load_data('dataset/movie_reviews_train.pkl')\n",
    "X_test, y_test = load_data('dataset/movie_reviews_test.pkl')\n",
    "X = X_train+X_test\n",
    "\n",
    "tokenizer = create_tokenizer(X)\n",
    "vocab_size = len(tokenizer.word_index)+1\n",
    "max_length = max(len(doc) for doc in X)\n",
    "\n",
    "X_train_encoded = encode_texts(tokenizer, max_length, X_train)\n",
    "X_test_encoded = encode_texts(tokenizer, max_length, X_test)\n",
    "\n",
    "# Shuffle data\n",
    "X_train_encoded = shuffle_data(X_train_encoded, y_train)\n",
    "\n",
    "# split train set into train and valid set\n",
    "train, valid = X_train_encoded[:1700], X_train_encoded[1700:]\n",
    "X_train, y_train = train[:, :-1], train[:, -1:]\n",
    "X_valid, y_valid = valid[:, :-1], valid[:, -1:]\n",
    "\n",
    "model = define_model(vocab_size)\n",
    "model.compile(loss=\"binary_crossentropy\", optimizer=\"adam\", metrics=[\"accuracy\"])\n",
    "history = model.fit(X_train, y_train, epochs=10,\n",
    "                    validation_data=(X_valid, y_valid),\n",
    "                    )"
   ]
  },
  {
   "cell_type": "code",
   "execution_count": 8,
   "metadata": {},
   "outputs": [
    {
     "name": "stdout",
     "output_type": "stream",
     "text": [
      "7/7 [==============================] - 1s 162ms/step - loss: 0.9177 - accuracy: 0.8200\n"
     ]
    },
    {
     "data": {
      "text/plain": [
       "[0.9177277088165283, 0.8199999928474426]"
      ]
     },
     "execution_count": 8,
     "metadata": {},
     "output_type": "execute_result"
    }
   ],
   "source": [
    "model.evaluate(X_test_encoded, np.array(y_test))"
   ]
  },
  {
   "cell_type": "code",
   "execution_count": 9,
   "metadata": {},
   "outputs": [],
   "source": [
    "model.save('sentiment_analysis_RNN.h5')"
   ]
  }
 ],
 "metadata": {
  "kernelspec": {
   "display_name": "Python 3",
   "language": "python",
   "name": "python3"
  },
  "language_info": {
   "codemirror_mode": {
    "name": "ipython",
    "version": 3
   },
   "file_extension": ".py",
   "mimetype": "text/x-python",
   "name": "python",
   "nbconvert_exporter": "python",
   "pygments_lexer": "ipython3",
   "version": "3.8.5"
  }
 },
 "nbformat": 4,
 "nbformat_minor": 4
}
