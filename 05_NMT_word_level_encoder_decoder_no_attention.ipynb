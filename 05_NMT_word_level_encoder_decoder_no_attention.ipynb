{
 "cells": [
  {
   "cell_type": "markdown",
   "metadata": {},
   "source": [
    "# Neural Machine Translation at word-level without Attention Mechanism"
   ]
  },
  {
   "cell_type": "markdown",
   "metadata": {},
   "source": [
    "## Download and Prepare Dataset"
   ]
  },
  {
   "cell_type": "markdown",
   "metadata": {},
   "source": [
    "Dataset downloaded from :  Dataset downloaded from: http://www.manythings.org/anki/deu-eng.zip"
   ]
  },
  {
   "cell_type": "code",
   "execution_count": 1,
   "metadata": {},
   "outputs": [],
   "source": [
    "import tensorflow as tf\n",
    "import re\n",
    "import string\n",
    "import numpy as np\n",
    "from unicodedata import normalize\n",
    "from tensorflow import keras\n",
    "from tensorflow.keras.utils import to_categorical\n",
    "from tensorflow.keras.preprocessing.sequence import pad_sequences\n",
    "from tensorflow.keras.preprocessing.text import Tokenizer\n",
    "from tensorflow.keras import Input\n",
    "from tensorflow.keras.layers import LSTM\n",
    "from tensorflow.keras.layers import Dense\n",
    "from tensorflow.keras.models import Model"
   ]
  },
  {
   "cell_type": "code",
   "execution_count": 2,
   "metadata": {},
   "outputs": [],
   "source": [
    "path_to_file = \"dataset/deu.txt\"\n",
    "MAX_LINES = 20000"
   ]
  },
  {
   "cell_type": "code",
   "execution_count": 3,
   "metadata": {},
   "outputs": [],
   "source": [
    "def load_data(filename):\n",
    "    \"\"\" Return data set as a list of pair-list\"\"\"\n",
    "    file = open(filename, mode='rt', encoding='utf-8')\n",
    "    text = file.read()\n",
    "    lines = text.split('\\n')\n",
    "    pairs = [line.split('\\t')[:2] for line in lines[:min(MAX_LINES, len(lines) - 1)]]\n",
    "    return pairs\n",
    "\n",
    "def clean_pairs(pairs):\n",
    "    cleaned = list()\n",
    "    re_punc = re.compile('[%s]' % re.escape(string.punctuation))\n",
    "    re_print = re.compile('[^%s]' % re.escape(string.printable))\n",
    "    for pair in pairs:\n",
    "        clean_pair = []\n",
    "        for line in pair:\n",
    "            line = normalize('NFD', line).encode('ascii', 'ignore')\n",
    "            line = line.decode('UTF-8')\n",
    "            line = line.split()\n",
    "            line = [word.lower() for word in line]\n",
    "            line = [re_punc.sub('', w) for w in line]\n",
    "            line = [re_print.sub('', w) for w in line]\n",
    "            line = [word for word in line if word.isalpha()]\n",
    "            clean_pair.append(' '.join(line))\n",
    "        cleaned.append(clean_pair)\n",
    "    return cleaned\n",
    "\n",
    "def encode_one_hot(sequences, vocab_size):\n",
    "    ylist = list()\n",
    "    for sequence in sequences:\n",
    "        encoded = to_categorical(sequence, num_classes=vocab_size)\n",
    "        ylist.append(encoded)\n",
    "    y = np.array(ylist)\n",
    "    y = y.reshape(sequences.shape[0], sequences.shape[1], vocab_size)\n",
    "    return y"
   ]
  },
  {
   "cell_type": "code",
   "execution_count": 4,
   "metadata": {},
   "outputs": [],
   "source": [
    "pairs = load_data(path_to_file)\n",
    "cleaned_pairs = clean_pairs(pairs)\n",
    "en = [en for [en, ger] in cleaned_pairs]\n",
    "ger = [ger for [en, ger] in cleaned_pairs]\n",
    "ger = list(map(lambda x : '<sos> ' +  x  + ' <eos>' , ger))"
   ]
  },
  {
   "cell_type": "code",
   "execution_count": 5,
   "metadata": {},
   "outputs": [],
   "source": [
    "# to change input/target language\n",
    "input_lang = en\n",
    "targ_lang = ger"
   ]
  },
  {
   "cell_type": "code",
   "execution_count": 6,
   "metadata": {},
   "outputs": [],
   "source": [
    "def tokenizer(text):\n",
    "    tokenizer = tf.keras.preprocessing.text.Tokenizer(filters='')\n",
    "    tokenizer.fit_on_texts(text)\n",
    "    sequence = tokenizer.texts_to_sequences(text)\n",
    "    padded_sequence = tf.keras.preprocessing.sequence.pad_sequences(sequence, padding='post')\n",
    "    return padded_sequence, tokenizer"
   ]
  },
  {
   "cell_type": "code",
   "execution_count": 7,
   "metadata": {},
   "outputs": [],
   "source": [
    "# padded sequence and tokenier of input/target language\n",
    "input_seq, input_tokenizer = tokenizer(input_lang)\n",
    "target_seq, target_tokenizer = tokenizer(targ_lang)\n",
    "\n",
    "# maximum length of input and target language\n",
    "max_input_length = input_seq.shape[1]\n",
    "max_target_length = target_seq.shape[1]\n",
    "\n",
    "# vocab size of input/target language\n",
    "input_vocab_size = len(input_tokenizer.word_index)+1\n",
    "target_vocab_size = len(target_tokenizer.word_index)+1"
   ]
  },
  {
   "cell_type": "code",
   "execution_count": 8,
   "metadata": {},
   "outputs": [],
   "source": [
    "# Input/output of encoder decoder\n",
    "\n",
    "encoder_input_data = encode_one_hot(input_seq, input_vocab_size)\n",
    "target_seq_one_hot = encode_one_hot(target_seq, target_vocab_size)\n",
    "decoder_input_data = target_seq_one_hot[:,:-1,:]\n",
    "decoder_output_data = target_seq_one_hot[:, 1:,:]"
   ]
  },
  {
   "cell_type": "markdown",
   "metadata": {},
   "source": [
    "## Develop a Model"
   ]
  },
  {
   "cell_type": "code",
   "execution_count": 14,
   "metadata": {},
   "outputs": [],
   "source": [
    "LATENT_DIM = 128\n",
    "\n",
    "# Define Encoder/Decoder\n",
    "\n",
    "# Encoder\n",
    "encoder_input = Input(shape=(None, input_vocab_size), \n",
    "                      name='encoder_input')\n",
    "encoder_lstm = LSTM(LATENT_DIM, \n",
    "                    return_sequences=False, \n",
    "                    return_state=True, \n",
    "                    name='encoder_lstm')\n",
    "_, enc_state_h, enc_state_c = encoder_lstm(encoder_input)\n",
    "encoder_state = [enc_state_h, enc_state_c]\n",
    "\n",
    "# Decoder\n",
    "decoder_input = Input(shape=[None, target_vocab_size],\n",
    "                     name='decoder_input')\n",
    "decoder_lstm = LSTM(LATENT_DIM,\n",
    "                   return_sequences=True,\n",
    "                   return_state=True,\n",
    "                   name='decoder_lstm')\n",
    "dec_h_output, dec_state_h, dec_state_c = decoder_lstm(decoder_input,\n",
    "                                                     initial_state=encoder_state,)\n",
    "decoder_dense = Dense(target_vocab_size, \n",
    "                      activation='softmax', \n",
    "                      name='decoder_dense')\n",
    "decoder_output = decoder_dense(dec_h_output)\n",
    "\n",
    "# Model\n",
    "model = Model([encoder_input, decoder_input],\n",
    "              decoder_output,\n",
    "             name='encoder_decoder_model')"
   ]
  },
  {
   "cell_type": "code",
   "execution_count": 15,
   "metadata": {},
   "outputs": [
    {
     "name": "stdout",
     "output_type": "stream",
     "text": [
      "Model: \"encoder_decoder_model\"\n",
      "__________________________________________________________________________________________________\n",
      "Layer (type)                    Output Shape         Param #     Connected to                     \n",
      "==================================================================================================\n",
      "encoder_input (InputLayer)      [(None, None, 3655)] 0                                            \n",
      "__________________________________________________________________________________________________\n",
      "decoder_input (InputLayer)      [(None, None, 5657)] 0                                            \n",
      "__________________________________________________________________________________________________\n",
      "encoder_lstm (LSTM)             [(None, 128), (None, 1937408     encoder_input[0][0]              \n",
      "__________________________________________________________________________________________________\n",
      "decoder_lstm (LSTM)             [(None, None, 128),  2962432     decoder_input[0][0]              \n",
      "                                                                 encoder_lstm[0][1]               \n",
      "                                                                 encoder_lstm[0][2]               \n",
      "__________________________________________________________________________________________________\n",
      "decoder_dense (Dense)           (None, None, 5657)   729753      decoder_lstm[0][0]               \n",
      "==================================================================================================\n",
      "Total params: 5,629,593\n",
      "Trainable params: 5,629,593\n",
      "Non-trainable params: 0\n",
      "__________________________________________________________________________________________________\n"
     ]
    }
   ],
   "source": [
    "model.compile(optimizer='adam', \n",
    "                               loss='categorical_crossentropy', \n",
    "                               metrics=['accuracy'])\n",
    "model.summary()"
   ]
  },
  {
   "cell_type": "code",
   "execution_count": 16,
   "metadata": {},
   "outputs": [
    {
     "data": {
      "image/png": "[encoded data removed]",
      "text/plain": [
       "<IPython.core.display.Image object>"
      ]
     },
     "execution_count": 16,
     "metadata": {},
     "output_type": "execute_result"
    }
   ],
   "source": [
    "tf.keras.utils.plot_model(model, show_shapes=True)"
   ]
  },
  {
   "cell_type": "code",
   "execution_count": 17,
   "metadata": {},
   "outputs": [],
   "source": [
    "# Early stopping callback\n",
    "es_callback = tf.keras.callbacks.EarlyStopping(patience=10,\n",
    "                                              restore_best_weights=True)"
   ]
  },
  {
   "cell_type": "code",
   "execution_count": 18,
   "metadata": {},
   "outputs": [
    {
     "name": "stdout",
     "output_type": "stream",
     "text": [
      "Epoch 1/100\n",
      "500/500 [==============================] - 160s 310ms/step - loss: 2.4881 - accuracy: 0.6508 - val_loss: 2.2662 - val_accuracy: 0.6612\n",
      "Epoch 2/100\n",
      "500/500 [==============================] - 125s 249ms/step - loss: 1.8176 - accuracy: 0.7242 - val_loss: 2.0270 - val_accuracy: 0.7157\n",
      "Epoch 3/100\n",
      "500/500 [==============================] - 120s 240ms/step - loss: 1.5972 - accuracy: 0.7552 - val_loss: 1.8862 - val_accuracy: 0.7320\n",
      "Epoch 4/100\n",
      "500/500 [==============================] - 119s 238ms/step - loss: 1.4465 - accuracy: 0.7717 - val_loss: 1.7944 - val_accuracy: 0.7430\n",
      "Epoch 5/100\n",
      "500/500 [==============================] - 120s 240ms/step - loss: 1.3208 - accuracy: 0.7875 - val_loss: 1.7244 - val_accuracy: 0.7553\n",
      "Epoch 6/100\n",
      "500/500 [==============================] - 123s 245ms/step - loss: 1.2137 - accuracy: 0.7996 - val_loss: 1.6627 - val_accuracy: 0.7630\n",
      "Epoch 7/100\n",
      "500/500 [==============================] - 116s 231ms/step - loss: 1.1175 - accuracy: 0.8103 - val_loss: 1.6107 - val_accuracy: 0.7746\n",
      "Epoch 8/100\n",
      "500/500 [==============================] - 117s 234ms/step - loss: 1.0279 - accuracy: 0.8206 - val_loss: 1.5752 - val_accuracy: 0.7793\n",
      "Epoch 9/100\n",
      "500/500 [==============================] - 117s 234ms/step - loss: 0.9450 - accuracy: 0.8288 - val_loss: 1.5349 - val_accuracy: 0.7860\n",
      "Epoch 10/100\n",
      "500/500 [==============================] - 123s 246ms/step - loss: 0.8695 - accuracy: 0.8374 - val_loss: 1.5059 - val_accuracy: 0.7891\n",
      "Epoch 11/100\n",
      "500/500 [==============================] - 123s 246ms/step - loss: 0.7974 - accuracy: 0.8458 - val_loss: 1.4834 - val_accuracy: 0.7930\n",
      "Epoch 12/100\n",
      "500/500 [==============================] - 121s 242ms/step - loss: 0.7299 - accuracy: 0.8545 - val_loss: 1.4655 - val_accuracy: 0.7949\n",
      "Epoch 13/100\n",
      "500/500 [==============================] - 121s 241ms/step - loss: 0.6665 - accuracy: 0.8633 - val_loss: 1.4475 - val_accuracy: 0.7983\n",
      "Epoch 14/100\n",
      "500/500 [==============================] - 124s 249ms/step - loss: 0.6062 - accuracy: 0.8724 - val_loss: 1.4493 - val_accuracy: 0.7991\n",
      "Epoch 15/100\n",
      "500/500 [==============================] - 122s 243ms/step - loss: 0.5507 - accuracy: 0.8808 - val_loss: 1.4353 - val_accuracy: 0.8036\n",
      "Epoch 16/100\n",
      "500/500 [==============================] - 121s 241ms/step - loss: 0.4990 - accuracy: 0.8900 - val_loss: 1.4307 - val_accuracy: 0.8067\n",
      "Epoch 17/100\n",
      "500/500 [==============================] - 121s 242ms/step - loss: 0.4521 - accuracy: 0.8989 - val_loss: 1.4221 - val_accuracy: 0.8078\n",
      "Epoch 18/100\n",
      "500/500 [==============================] - 121s 242ms/step - loss: 0.4071 - accuracy: 0.9067 - val_loss: 1.4199 - val_accuracy: 0.8096\n",
      "Epoch 19/100\n",
      "500/500 [==============================] - 121s 242ms/step - loss: 0.3672 - accuracy: 0.9149 - val_loss: 1.4225 - val_accuracy: 0.8110\n",
      "Epoch 20/100\n",
      "500/500 [==============================] - 122s 245ms/step - loss: 0.3316 - accuracy: 0.9216 - val_loss: 1.4241 - val_accuracy: 0.8131\n",
      "Epoch 21/100\n",
      "500/500 [==============================] - 121s 242ms/step - loss: 0.2998 - accuracy: 0.9277 - val_loss: 1.4281 - val_accuracy: 0.8135\n",
      "Epoch 22/100\n",
      "500/500 [==============================] - 124s 248ms/step - loss: 0.2719 - accuracy: 0.9336 - val_loss: 1.4422 - val_accuracy: 0.8152\n",
      "Epoch 23/100\n",
      "500/500 [==============================] - 128s 257ms/step - loss: 0.2478 - accuracy: 0.9388 - val_loss: 1.4400 - val_accuracy: 0.8158\n",
      "Epoch 24/100\n",
      "500/500 [==============================] - 122s 244ms/step - loss: 0.2260 - accuracy: 0.9422 - val_loss: 1.4418 - val_accuracy: 0.8168\n",
      "Epoch 25/100\n",
      "500/500 [==============================] - 124s 248ms/step - loss: 0.2071 - accuracy: 0.9458 - val_loss: 1.4510 - val_accuracy: 0.8172\n",
      "Epoch 26/100\n",
      "500/500 [==============================] - 128s 256ms/step - loss: 0.1923 - accuracy: 0.9483 - val_loss: 1.4527 - val_accuracy: 0.8177\n",
      "Epoch 27/100\n",
      "500/500 [==============================] - 124s 247ms/step - loss: 0.1780 - accuracy: 0.9507 - val_loss: 1.4654 - val_accuracy: 0.8182\n",
      "Epoch 28/100\n",
      "500/500 [==============================] - 119s 237ms/step - loss: 0.1651 - accuracy: 0.9527 - val_loss: 1.4712 - val_accuracy: 0.8183\n"
     ]
    }
   ],
   "source": [
    "# Fit the Model\n",
    "history = model.fit([encoder_input_data, decoder_input_data], \n",
    "                                    decoder_output_data,\n",
    "                                    epochs=100,\n",
    "                                    validation_split=0.2,\n",
    "                                    callbacks = [es_callback])\n",
    "model.save('model_encoder_decoder_translation_no_attention.h5')"
   ]
  },
  {
   "cell_type": "markdown",
   "metadata": {},
   "source": [
    "## Inference"
   ]
  },
  {
   "cell_type": "code",
   "execution_count": 9,
   "metadata": {},
   "outputs": [],
   "source": [
    "model = keras.models.load_model('model_encoder_decoder_translation_no_attention.h5')"
   ]
  },
  {
   "cell_type": "code",
   "execution_count": 10,
   "metadata": {},
   "outputs": [],
   "source": [
    "LATENT_DIM = 128\n",
    "\n",
    "encoder_inputs = model.input[0]  # input_1\n",
    "encoder_outputs, state_h_enc, state_c_enc = model.layers[2].output  # lstm_1\n",
    "encoder_states = [state_h_enc, state_c_enc]\n",
    "encoder_model = keras.Model(encoder_inputs, encoder_states)\n",
    "\n",
    "decoder_inputs = model.input[1]  # input_2\n",
    "decoder_state_input_h = keras.Input(shape=(LATENT_DIM,))\n",
    "decoder_state_input_c = keras.Input(shape=(LATENT_DIM,))\n",
    "decoder_states_inputs = [decoder_state_input_h, decoder_state_input_c]\n",
    "decoder_lstm = model.layers[3]\n",
    "decoder_outputs, state_h_dec, state_c_dec = decoder_lstm(\n",
    "    decoder_inputs, initial_state=decoder_states_inputs\n",
    ")\n",
    "decoder_states = [state_h_dec, state_c_dec]\n",
    "decoder_dense = model.layers[4]\n",
    "decoder_outputs = decoder_dense(decoder_outputs)\n",
    "decoder_model = keras.Model(\n",
    "    [decoder_inputs] + decoder_states_inputs, [decoder_outputs] + decoder_states\n",
    ")\n",
    "\n",
    "target_word_index = target_tokenizer.word_index\n",
    "reverse_target_word_index = dict((i, char) for char, i in target_tokenizer.word_index.items())\n",
    "\n",
    "def decode_sequence(input_seq):\n",
    "    # Encode the input as state vectors.\n",
    "    states_value = encoder_model.predict(input_seq)\n",
    "    # Generate empty target sequence of length 1.\n",
    "    target_seq = np.zeros((1, 1, target_vocab_size))\n",
    "    # Populate the first character of target sequence with the start character.\n",
    "    target_seq[0, 0, target_word_index[\"<sos>\"]] = 1.0\n",
    "    # Sampling loop for a batch of sequences\n",
    "    # (to simplify, here we assume a batch of size 1).\n",
    "        \n",
    "    stop_condition = False\n",
    "    decoded_sentence = []\n",
    "    while not stop_condition:\n",
    "        output_tokens, h, c = decoder_model.predict([target_seq] + states_value)\n",
    "\n",
    "        # Sample a token\n",
    "        sampled_word_index = np.argmax(output_tokens[0, -1, :])\n",
    "        sampled_word = reverse_target_word_index[sampled_word_index]\n",
    "        decoded_sentence.append(sampled_word)\n",
    "\n",
    "        # Exit condition: either hit max length\n",
    "        # or find stop character.\n",
    "        if sampled_word == \"<eos>\" or len(decoded_sentence) > max_target_length:\n",
    "            stop_condition = True\n",
    "\n",
    "        # Update the target sequence (of length 1).\n",
    "        sampled_word = np.zeros((1, 1, target_vocab_size))\n",
    "        target_seq[0, 0, sampled_word_index] = 1.0\n",
    "\n",
    "        # Update states\n",
    "        states_value = [h, c]\n",
    "    return ' '.join(decoded_sentence[:-1])"
   ]
  },
  {
   "cell_type": "code",
   "execution_count": 11,
   "metadata": {},
   "outputs": [
    {
     "name": "stdout",
     "output_type": "stream",
     "text": [
      "-\n",
      "Input sentence: its hard\n",
      "Decoded sentence: das ist hart passiert uhr uhr schnell schnell schnell schnell schnell schnell\n",
      "-\n",
      "Input sentence: its here\n",
      "Decoded sentence: es ist hier hier hier hier gekommen gekommen gekommen gegangen\n",
      "-\n",
      "Input sentence: its late\n",
      "Decoded sentence: es ist zu spat spat spat spat spat spat spat spat fu\n",
      "-\n",
      "Input sentence: its mine\n",
      "Decoded sentence: es gehort mir mir mir\n",
      "-\n",
      "Input sentence: its mine\n",
      "Decoded sentence: es gehort mir mir mir\n",
      "-\n",
      "Input sentence: its mine\n",
      "Decoded sentence: es gehort mir mir mir\n",
      "-\n",
      "Input sentence: its okay\n",
      "Decoded sentence: es ist nicht in ordnung ordnung nahe nahe nahe nahe nahe nahe\n",
      "-\n",
      "Input sentence: its open\n",
      "Decoded sentence: es ist geoffnet wahrheit\n",
      "-\n",
      "Input sentence: its ours\n",
      "Decoded sentence: es ist wichtig weg\n",
      "-\n",
      "Input sentence: its over\n",
      "Decoded sentence: es ist vorbei bett spat reihe\n",
      "-\n",
      "Input sentence: its sand\n",
      "Decoded sentence: es ist einfach einfach sehr vorsichtig dunn dunn dunn dunn dunn dunn\n",
      "-\n",
      "Input sentence: its true\n",
      "Decoded sentence: es ist wahr wahr sein\n",
      "-\n",
      "Input sentence: its work\n",
      "Decoded sentence: es ist montag arbeit arbeit\n",
      "-\n",
      "Input sentence: its work\n",
      "Decoded sentence: es ist montag arbeit arbeit\n",
      "-\n",
      "Input sentence: jump down\n",
      "Decoded sentence: spring leise\n",
      "-\n",
      "Input sentence: just swim\n",
      "Decoded sentence: schwimm einfach\n",
      "-\n",
      "Input sentence: keep away\n",
      "Decoded sentence: bleiben sie weiter\n",
      "-\n",
      "Input sentence: keep away\n",
      "Decoded sentence: bleiben sie weiter\n",
      "-\n",
      "Input sentence: keep away\n",
      "Decoded sentence: bleiben sie weiter\n",
      "-\n",
      "Input sentence: keep back\n",
      "Decoded sentence: bleib zuruck zu\n"
     ]
    }
   ],
   "source": [
    "for seq_index in range(900,920):\n",
    "    # Take one sequence (part of the training set)\n",
    "    # for trying out decoding.\n",
    "    input_seq = encoder_input_data[seq_index : seq_index + 1]\n",
    "    decoded_sentence = decode_sequence(input_seq)\n",
    "    print(\"-\")\n",
    "    target_seq = target_tokenizer.texts_to_sequences('<sos>')\n",
    "    target_seq_padded = pad_sequences(target_seq, maxlen=max_target_length-1, padding='post')\n",
    "    target_seq_one_hot = encode_one_hot(target_seq_padded, target_vocab_size)  \n",
    "    print(\"Input sentence:\", input_lang[seq_index])\n",
    "    print(\"Decoded sentence:\", decoded_sentence)"
   ]
  },
  {
   "cell_type": "code",
   "execution_count": null,
   "metadata": {},
   "outputs": [],
   "source": []
  },
  {
   "cell_type": "code",
   "execution_count": null,
   "metadata": {},
   "outputs": [],
   "source": []
  }
 ],
 "metadata": {
  "kernelspec": {
   "display_name": "Python 3",
   "language": "python",
   "name": "python3"
  },
  "language_info": {
   "codemirror_mode": {
    "name": "ipython",
    "version": 3
   },
   "file_extension": ".py",
   "mimetype": "text/x-python",
   "name": "python",
   "nbconvert_exporter": "python",
   "pygments_lexer": "ipython3",
   "version": "3.8.5"
  }
 },
 "nbformat": 4,
 "nbformat_minor": 4
}
